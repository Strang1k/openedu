{
 "cells": [
  {
   "cell_type": "code",
   "execution_count": 5,
   "metadata": {},
   "outputs": [],
   "source": [
    "import pandas as pd\n",
    "import catboost\n",
    "import lightgbm\n",
    "from sklearn.model_selection import train_test_split\n",
    "from sklearn.metrics import mean_absolute_error\n",
    "\n",
    "from catboost import CatBoostRegressor\n",
    "from lightgbm import LGBMRegressor\n"
   ]
  },
  {
   "cell_type": "code",
   "execution_count": 6,
   "metadata": {},
   "outputs": [],
   "source": [
    "data = pd.read_csv('yandex_data.tsv', sep='\\t')\n",
    "num_features = ['agent_fee', 'floor', 'floors_total', 'kitchen_area', 'living_area', 'price', 'rooms_offered', 'total_area', 'total_images']\n",
    "cat_features = ['balcony', 'building_type', 'month', 'renovation', 'studio']\n",
    "\n",
    "X_train, X_test, y_train, y_test = train_test_split(data[num_features], data['exposition_time'], test_size=0.3, shuffle=False) #+cat_features"
   ]
  },
  {
   "cell_type": "markdown",
   "metadata": {},
   "source": [
    "1"
   ]
  },
  {
   "cell_type": "code",
   "execution_count": null,
   "metadata": {},
   "outputs": [],
   "source": [
    "cclf = CatBoostRegressor()\n",
    "cclf.fit(X_train, y_train)"
   ]
  },
  {
   "cell_type": "code",
   "execution_count": null,
   "metadata": {},
   "outputs": [],
   "source": [
    "lclf = LGBMRegressor()\n",
    "lclf.fit(X_train, y_train)"
   ]
  },
  {
   "cell_type": "markdown",
   "metadata": {},
   "source": [
    "2"
   ]
  },
  {
   "cell_type": "code",
   "execution_count": null,
   "metadata": {},
   "outputs": [],
   "source": [
    "gs = GridSearchCV(\n",
    "    CatBoostRegressor(loss_function='MAE',  random_seed=0),\n",
    "    param_grid={\n",
    "        'max_depth': [5, 7, 9],\n",
    "        'learning_rate': [0.05, 0.1, 0.5] ,\n",
    "        \n",
    "    }\n",
    ")\n",
    "gs.fit(X_train[num_features], y_train)"
   ]
  },
  {
   "cell_type": "markdown",
   "metadata": {},
   "source": [
    "{'learning_rate': 0.1, 'max_depth': 9}"
   ]
  },
  {
   "cell_type": "code",
   "execution_count": null,
   "metadata": {},
   "outputs": [
    {
     "data": {
      "text/plain": [
       "198390      7\n",
       "198391     58\n",
       "198392      1\n",
       "198393     55\n",
       "198394     83\n",
       "         ... \n",
       "228385    830\n",
       "228386    830\n",
       "228387     91\n",
       "228388      4\n",
       "228389      4\n",
       "Name: exposition_time, Length: 30000, dtype: int64"
      ]
     },
     "execution_count": 10,
     "metadata": {},
     "output_type": "execute_result"
    }
   ],
   "source": [
    "mean_absolute_error(y_test, cclf.predict(X_test))"
   ]
  },
  {
   "cell_type": "code",
   "execution_count": null,
   "metadata": {},
   "outputs": [],
   "source": [
    "from sklearn.model_selection import GridSearchCV\n",
    "### ╰( ͡° ͜ʖ ͡° )つ──☆*:・ﾟ"
   ]
  },
  {
   "cell_type": "markdown",
   "metadata": {},
   "source": [
    "3"
   ]
  },
  {
   "cell_type": "code",
   "execution_count": null,
   "metadata": {},
   "outputs": [],
   "source": [
    "gs = GridSearchCV(\n",
    "    CatBoostRegressor(loss_function='MAE',  random_seed=0),\n",
    "    param_grid={\n",
    "        'max_depth': [5, 7, 9],\n",
    "        'learning_rate': [0.05, 0.1, 0.5] ,\n",
    "        \n",
    "    }\n",
    ")\n",
    "gs.fit(X_train, y_train, cat_features=cat_features)"
   ]
  },
  {
   "cell_type": "code",
   "execution_count": null,
   "metadata": {},
   "outputs": [],
   "source": [
    "# gs1 = GridSearchCV(\n",
    "#     LGBMRegressor(loss_function='MAE', random_seed=0),\n",
    "#     param_grid={\n",
    "#         'max_depth': [5, 7, 9],\n",
    "#         'learning_rate': [0.05, 0.1, 0.5] ,\n",
    "#     }\n",
    "# )\n",
    "# gs1.fit(X_train, y_train)"
   ]
  },
  {
   "cell_type": "code",
   "execution_count": null,
   "metadata": {},
   "outputs": [],
   "source": [
    "gs.best_params_"
   ]
  },
  {
   "cell_type": "markdown",
   "metadata": {},
   "source": [
    "{'learning_rate': 0.05, 'max_depth': 5}"
   ]
  },
  {
   "cell_type": "code",
   "execution_count": null,
   "metadata": {},
   "outputs": [],
   "source": [
    "# gs1.best_params_"
   ]
  },
  {
   "cell_type": "code",
   "execution_count": null,
   "metadata": {},
   "outputs": [],
   "source": [
    "mean_absolute_error(y_test, gs.predict(X_test))"
   ]
  },
  {
   "cell_type": "code",
   "execution_count": null,
   "metadata": {},
   "outputs": [],
   "source": [
    "# mean_absolute_error(y_test, gs1.predict(X_test))"
   ]
  },
  {
   "cell_type": "markdown",
   "metadata": {},
   "source": [
    "4"
   ]
  },
  {
   "cell_type": "code",
   "execution_count": null,
   "metadata": {},
   "outputs": [],
   "source": [
    "import numpy as np"
   ]
  },
  {
   "cell_type": "code",
   "execution_count": null,
   "metadata": {},
   "outputs": [],
   "source": [
    "cbr = CatBoostRegressor(learning_rate=0.05, max_depth=5)\n",
    "cbr.fit(X_train, y_train) "
   ]
  },
  {
   "cell_type": "code",
   "execution_count": null,
   "metadata": {},
   "outputs": [],
   "source": [
    "def select_weights(y_true, y_pred_1, y_pred_2):\n",
    "    metric = []\n",
    "    grid = np.linspace(0, 1, 1000)\n",
    "    for w_0 in grid:\n",
    "      w_1 = 1 - w_0\n",
    "      y = y_pred_1 * w_0 + y_pred_2 * w_1\n",
    "\n",
    "      metric.append([mean_absolute_error(y_true, y), w_0, w_1])\n",
    "\n",
    "    return metric"
   ]
  },
  {
   "cell_type": "code",
   "execution_count": null,
   "metadata": {},
   "outputs": [],
   "source": [
    "mae_blending_train, w_0, w_1 = min(select_weights(y_train, gs.predict(X_train[num_features]), cbr.predict(X_test) ), key=lambda x: x[0])"
   ]
  },
  {
   "cell_type": "code",
   "execution_count": null,
   "metadata": {},
   "outputs": [],
   "source": [
    "mae_blending_train "
   ]
  },
  {
   "cell_type": "code",
   "execution_count": null,
   "metadata": {},
   "outputs": [],
   "source": [
    "w_0, w_1 "
   ]
  },
  {
   "cell_type": "markdown",
   "metadata": {},
   "source": [
    "(0.1831831831831832, 0.8168168168168168)"
   ]
  },
  {
   "cell_type": "code",
   "execution_count": null,
   "metadata": {},
   "outputs": [],
   "source": [
    "mean_absolute_error(y_test, gs.predict(X_test[num_features]) * w_0 + cbr.predict(X_test) * w_1)"
   ]
  },
  {
   "cell_type": "markdown",
   "metadata": {},
   "source": [
    "31.853400477728368"
   ]
  },
  {
   "cell_type": "code",
   "execution_count": null,
   "metadata": {},
   "outputs": [],
   "source": [
    "xer = cbr.get_feature_importance()"
   ]
  },
  {
   "cell_type": "code",
   "execution_count": null,
   "metadata": {},
   "outputs": [],
   "source": [
    "xer"
   ]
  },
  {
   "cell_type": "code",
   "execution_count": null,
   "metadata": {},
   "outputs": [],
   "source": [
    "import seaborn as sns\n",
    "\n",
    "features_imp = pd.DataFrame({'importance': xer,\n",
    "'name': X_test.columns})"
   ]
  },
  {
   "cell_type": "code",
   "execution_count": null,
   "metadata": {},
   "outputs": [],
   "source": [
    "sns.barplot(x='importance', y='name', data=features_imp)"
   ]
  },
  {
   "cell_type": "markdown",
   "metadata": {},
   "source": [
    "X_train.drop(['floor', 'floors_total', 'rooms_offered', 'balcony', 'building_type', 'studio'], axis=1)\n",
    "X_test.drop(['floor', 'floors_total', 'rooms_offered', 'balcony', 'building_type', 'studio'], axis=1)\n",
    "\n",
    "Но по заданию те, что меньше 0.05, а эти минимум 0,5"
   ]
  },
  {
   "cell_type": "code",
   "execution_count": null,
   "metadata": {},
   "outputs": [],
   "source": [
    "new_train = X_train.drop(['floor', 'floors_total', 'rooms_offered', 'balcony', 'building_type', 'studio'], axis=1)\n",
    "new_test = X_test.drop(['floor', 'floors_total', 'rooms_offered', 'balcony', 'building_type', 'studio'], axis=1)"
   ]
  },
  {
   "cell_type": "code",
   "execution_count": null,
   "metadata": {},
   "outputs": [],
   "source": [
    "new_cat = ['month', 'renovation']"
   ]
  },
  {
   "cell_type": "code",
   "execution_count": null,
   "metadata": {},
   "outputs": [],
   "source": [
    "cbr1 = CatBoostRegressor(loss_function='MAE',learning_rate=0.05, max_depth=5)"
   ]
  },
  {
   "cell_type": "code",
   "execution_count": null,
   "metadata": {},
   "outputs": [],
   "source": [
    "cbr1.fit(new_train, y_train, cat_features= new_cat)"
   ]
  },
  {
   "cell_type": "code",
   "execution_count": null,
   "metadata": {},
   "outputs": [],
   "source": [
    "mean_absolute_error(y_test, cbr1.predict(new_test))"
   ]
  },
  {
   "cell_type": "code",
   "execution_count": null,
   "metadata": {},
   "outputs": [],
   "source": [
    "mean_absolute_error(y_test, cbr.predict(new_test)) - mean_absolute_error(y_test, cbr1.predict(new_test))"
   ]
  }
 ],
 "metadata": {
  "interpreter": {
   "hash": "8bdddfcbdf35f1174d91508787a9c93eee9333e8f9b9d190752318df5f8bbf41"
  },
  "kernelspec": {
   "display_name": "Python 3.9.6 64-bit",
   "language": "python",
   "name": "python3"
  },
  "language_info": {
   "codemirror_mode": {
    "name": "ipython",
    "version": 3
   },
   "file_extension": ".py",
   "mimetype": "text/x-python",
   "name": "python",
   "nbconvert_exporter": "python",
   "pygments_lexer": "ipython3",
   "version": "3.9.6"
  },
  "orig_nbformat": 4
 },
 "nbformat": 4,
 "nbformat_minor": 2
}
