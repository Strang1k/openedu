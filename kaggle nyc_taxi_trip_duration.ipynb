{
 "cells": [
  {
   "cell_type": "code",
   "execution_count": 1,
   "metadata": {},
   "outputs": [],
   "source": [
    "#!kaggle competitions download -c nyc-taxi-trip-duration\n",
    "#скачал с кагле файл и открыл, смысл строк в том же, но они тут не очень и работают"
   ]
  },
  {
   "cell_type": "code",
   "execution_count": 2,
   "metadata": {},
   "outputs": [],
   "source": [
    "import pandas as pd\n",
    "import numpy as np\n",
    "import seaborn as sns\n",
    "from matplotlib import pyplot as plt\n",
    "\n",
    "df = pd.read_csv('gtrain.zip', compression='zip', header=0, sep=',', quotechar='\"')"
   ]
  },
  {
   "cell_type": "code",
   "execution_count": 3,
   "metadata": {},
   "outputs": [
    {
     "data": {
      "text/html": [
       "<div>\n",
       "<style scoped>\n",
       "    .dataframe tbody tr th:only-of-type {\n",
       "        vertical-align: middle;\n",
       "    }\n",
       "\n",
       "    .dataframe tbody tr th {\n",
       "        vertical-align: top;\n",
       "    }\n",
       "\n",
       "    .dataframe thead th {\n",
       "        text-align: right;\n",
       "    }\n",
       "</style>\n",
       "<table border=\"1\" class=\"dataframe\">\n",
       "  <thead>\n",
       "    <tr style=\"text-align: right;\">\n",
       "      <th></th>\n",
       "      <th>id</th>\n",
       "      <th>vendor_id</th>\n",
       "      <th>pickup_datetime</th>\n",
       "      <th>dropoff_datetime</th>\n",
       "      <th>passenger_count</th>\n",
       "      <th>pickup_longitude</th>\n",
       "      <th>pickup_latitude</th>\n",
       "      <th>dropoff_longitude</th>\n",
       "      <th>dropoff_latitude</th>\n",
       "      <th>store_and_fwd_flag</th>\n",
       "      <th>trip_duration</th>\n",
       "    </tr>\n",
       "  </thead>\n",
       "  <tbody>\n",
       "    <tr>\n",
       "      <th>0</th>\n",
       "      <td>id2875421</td>\n",
       "      <td>2</td>\n",
       "      <td>2016-03-14 17:24:55</td>\n",
       "      <td>2016-03-14 17:32:30</td>\n",
       "      <td>1</td>\n",
       "      <td>-73.982155</td>\n",
       "      <td>40.767937</td>\n",
       "      <td>-73.964630</td>\n",
       "      <td>40.765602</td>\n",
       "      <td>N</td>\n",
       "      <td>455</td>\n",
       "    </tr>\n",
       "    <tr>\n",
       "      <th>1</th>\n",
       "      <td>id2377394</td>\n",
       "      <td>1</td>\n",
       "      <td>2016-06-12 00:43:35</td>\n",
       "      <td>2016-06-12 00:54:38</td>\n",
       "      <td>1</td>\n",
       "      <td>-73.980415</td>\n",
       "      <td>40.738564</td>\n",
       "      <td>-73.999481</td>\n",
       "      <td>40.731152</td>\n",
       "      <td>N</td>\n",
       "      <td>663</td>\n",
       "    </tr>\n",
       "    <tr>\n",
       "      <th>2</th>\n",
       "      <td>id3858529</td>\n",
       "      <td>2</td>\n",
       "      <td>2016-01-19 11:35:24</td>\n",
       "      <td>2016-01-19 12:10:48</td>\n",
       "      <td>1</td>\n",
       "      <td>-73.979027</td>\n",
       "      <td>40.763939</td>\n",
       "      <td>-74.005333</td>\n",
       "      <td>40.710087</td>\n",
       "      <td>N</td>\n",
       "      <td>2124</td>\n",
       "    </tr>\n",
       "    <tr>\n",
       "      <th>3</th>\n",
       "      <td>id3504673</td>\n",
       "      <td>2</td>\n",
       "      <td>2016-04-06 19:32:31</td>\n",
       "      <td>2016-04-06 19:39:40</td>\n",
       "      <td>1</td>\n",
       "      <td>-74.010040</td>\n",
       "      <td>40.719971</td>\n",
       "      <td>-74.012268</td>\n",
       "      <td>40.706718</td>\n",
       "      <td>N</td>\n",
       "      <td>429</td>\n",
       "    </tr>\n",
       "    <tr>\n",
       "      <th>4</th>\n",
       "      <td>id2181028</td>\n",
       "      <td>2</td>\n",
       "      <td>2016-03-26 13:30:55</td>\n",
       "      <td>2016-03-26 13:38:10</td>\n",
       "      <td>1</td>\n",
       "      <td>-73.973053</td>\n",
       "      <td>40.793209</td>\n",
       "      <td>-73.972923</td>\n",
       "      <td>40.782520</td>\n",
       "      <td>N</td>\n",
       "      <td>435</td>\n",
       "    </tr>\n",
       "  </tbody>\n",
       "</table>\n",
       "</div>"
      ],
      "text/plain": [
       "          id  vendor_id      pickup_datetime     dropoff_datetime  \\\n",
       "0  id2875421          2  2016-03-14 17:24:55  2016-03-14 17:32:30   \n",
       "1  id2377394          1  2016-06-12 00:43:35  2016-06-12 00:54:38   \n",
       "2  id3858529          2  2016-01-19 11:35:24  2016-01-19 12:10:48   \n",
       "3  id3504673          2  2016-04-06 19:32:31  2016-04-06 19:39:40   \n",
       "4  id2181028          2  2016-03-26 13:30:55  2016-03-26 13:38:10   \n",
       "\n",
       "   passenger_count  pickup_longitude  pickup_latitude  dropoff_longitude  \\\n",
       "0                1        -73.982155        40.767937         -73.964630   \n",
       "1                1        -73.980415        40.738564         -73.999481   \n",
       "2                1        -73.979027        40.763939         -74.005333   \n",
       "3                1        -74.010040        40.719971         -74.012268   \n",
       "4                1        -73.973053        40.793209         -73.972923   \n",
       "\n",
       "   dropoff_latitude store_and_fwd_flag  trip_duration  \n",
       "0         40.765602                  N            455  \n",
       "1         40.731152                  N            663  \n",
       "2         40.710087                  N           2124  \n",
       "3         40.706718                  N            429  \n",
       "4         40.782520                  N            435  "
      ]
     },
     "execution_count": 3,
     "metadata": {},
     "output_type": "execute_result"
    }
   ],
   "source": [
    "df.head()"
   ]
  },
  {
   "cell_type": "code",
   "execution_count": 4,
   "metadata": {},
   "outputs": [],
   "source": [
    "df = df.drop('dropoff_datetime', axis=1)"
   ]
  },
  {
   "cell_type": "code",
   "execution_count": 5,
   "metadata": {},
   "outputs": [],
   "source": [
    "df = df.sort_values(by='pickup_datetime')"
   ]
  },
  {
   "cell_type": "code",
   "execution_count": 6,
   "metadata": {},
   "outputs": [],
   "source": [
    "train_df, test_df = df[:10 **6], df[10 ** 6:]"
   ]
  },
  {
   "cell_type": "code",
   "execution_count": 7,
   "metadata": {},
   "outputs": [
    {
     "data": {
      "text/plain": [
       "458644"
      ]
     },
     "execution_count": 7,
     "metadata": {},
     "output_type": "execute_result"
    }
   ],
   "source": [
    "len(test_df)"
   ]
  },
  {
   "cell_type": "code",
   "execution_count": 8,
   "metadata": {},
   "outputs": [
    {
     "data": {
      "text/plain": [
       "1000000"
      ]
     },
     "execution_count": 8,
     "metadata": {},
     "output_type": "execute_result"
    }
   ],
   "source": [
    "len(train_df)"
   ]
  },
  {
   "cell_type": "code",
   "execution_count": 9,
   "metadata": {},
   "outputs": [
    {
     "data": {
      "text/plain": [
       "<AxesSubplot:>"
      ]
     },
     "execution_count": 9,
     "metadata": {},
     "output_type": "execute_result"
    },
    {
     "data": {
      "image/png": "[encoded data removed]",
      "text/plain": [
       "<Figure size 432x288 with 1 Axes>"
      ]
     },
     "metadata": {
      "needs_background": "light"
     },
     "output_type": "display_data"
    }
   ],
   "source": [
    "np.log1p(train_df.trip_duration).hist(bins=300)"
   ]
  },
  {
   "cell_type": "code",
   "execution_count": 10,
   "metadata": {},
   "outputs": [
    {
     "data": {
      "image/png": "[encoded data removed]",
      "text/plain": [
       "<Figure size 432x288 with 1 Axes>"
      ]
     },
     "metadata": {
      "needs_background": "light"
     },
     "output_type": "display_data"
    }
   ],
   "source": [
    "plt.figure()\n",
    "date_count_plot = sns.countplot(x=train_df.trip_duration)"
   ]
  },
  {
   "cell_type": "code",
   "execution_count": 11,
   "metadata": {},
   "outputs": [
    {
     "name": "stderr",
     "output_type": "stream",
     "text": [
      "C:\\Users\\AACE~1\\AppData\\Local\\Temp/ipykernel_11952/623066710.py:1: SettingWithCopyWarning: \n",
      "A value is trying to be set on a copy of a slice from a DataFrame.\n",
      "Try using .loc[row_indexer,col_indexer] = value instead\n",
      "\n",
      "See the caveats in the documentation: https://pandas.pydata.org/pandas-docs/stable/user_guide/indexing.html#returning-a-view-versus-a-copy\n",
      "  train_df['log_trip_duration'] = np.log1p(train_df.trip_duration)\n",
      "C:\\Users\\AACE~1\\AppData\\Local\\Temp/ipykernel_11952/623066710.py:2: SettingWithCopyWarning: \n",
      "A value is trying to be set on a copy of a slice from a DataFrame.\n",
      "Try using .loc[row_indexer,col_indexer] = value instead\n",
      "\n",
      "See the caveats in the documentation: https://pandas.pydata.org/pandas-docs/stable/user_guide/indexing.html#returning-a-view-versus-a-copy\n",
      "  test_df['log_trip_duration'] = np.log1p(test_df.trip_duration)\n"
     ]
    }
   ],
   "source": [
    "train_df['log_trip_duration'] = np.log1p(train_df.trip_duration)\n",
    "test_df['log_trip_duration'] = np.log1p(test_df.trip_duration)\n"
   ]
  },
  {
   "cell_type": "code",
   "execution_count": 12,
   "metadata": {},
   "outputs": [
    {
     "data": {
      "text/html": [
       "<div>\n",
       "<style scoped>\n",
       "    .dataframe tbody tr th:only-of-type {\n",
       "        vertical-align: middle;\n",
       "    }\n",
       "\n",
       "    .dataframe tbody tr th {\n",
       "        vertical-align: top;\n",
       "    }\n",
       "\n",
       "    .dataframe thead th {\n",
       "        text-align: right;\n",
       "    }\n",
       "</style>\n",
       "<table border=\"1\" class=\"dataframe\">\n",
       "  <thead>\n",
       "    <tr style=\"text-align: right;\">\n",
       "      <th></th>\n",
       "      <th>id</th>\n",
       "      <th>vendor_id</th>\n",
       "      <th>pickup_datetime</th>\n",
       "      <th>passenger_count</th>\n",
       "      <th>pickup_longitude</th>\n",
       "      <th>pickup_latitude</th>\n",
       "      <th>dropoff_longitude</th>\n",
       "      <th>dropoff_latitude</th>\n",
       "      <th>store_and_fwd_flag</th>\n",
       "      <th>trip_duration</th>\n",
       "      <th>log_trip_duration</th>\n",
       "    </tr>\n",
       "  </thead>\n",
       "  <tbody>\n",
       "    <tr>\n",
       "      <th>96469</th>\n",
       "      <td>id0190469</td>\n",
       "      <td>2</td>\n",
       "      <td>2016-01-01 00:00:17</td>\n",
       "      <td>5</td>\n",
       "      <td>-73.981743</td>\n",
       "      <td>40.719158</td>\n",
       "      <td>-73.938828</td>\n",
       "      <td>40.829182</td>\n",
       "      <td>N</td>\n",
       "      <td>849</td>\n",
       "      <td>6.745236</td>\n",
       "    </tr>\n",
       "    <tr>\n",
       "      <th>223872</th>\n",
       "      <td>id1665586</td>\n",
       "      <td>1</td>\n",
       "      <td>2016-01-01 00:00:53</td>\n",
       "      <td>1</td>\n",
       "      <td>-73.985085</td>\n",
       "      <td>40.747166</td>\n",
       "      <td>-73.958038</td>\n",
       "      <td>40.717491</td>\n",
       "      <td>N</td>\n",
       "      <td>1294</td>\n",
       "      <td>7.166266</td>\n",
       "    </tr>\n",
       "    <tr>\n",
       "      <th>713067</th>\n",
       "      <td>id1210365</td>\n",
       "      <td>2</td>\n",
       "      <td>2016-01-01 00:01:01</td>\n",
       "      <td>5</td>\n",
       "      <td>-73.965279</td>\n",
       "      <td>40.801041</td>\n",
       "      <td>-73.947479</td>\n",
       "      <td>40.815170</td>\n",
       "      <td>N</td>\n",
       "      <td>408</td>\n",
       "      <td>6.013715</td>\n",
       "    </tr>\n",
       "    <tr>\n",
       "      <th>652463</th>\n",
       "      <td>id3888279</td>\n",
       "      <td>1</td>\n",
       "      <td>2016-01-01 00:01:14</td>\n",
       "      <td>1</td>\n",
       "      <td>-73.982292</td>\n",
       "      <td>40.751331</td>\n",
       "      <td>-73.991341</td>\n",
       "      <td>40.750340</td>\n",
       "      <td>N</td>\n",
       "      <td>280</td>\n",
       "      <td>5.638355</td>\n",
       "    </tr>\n",
       "    <tr>\n",
       "      <th>722901</th>\n",
       "      <td>id0924227</td>\n",
       "      <td>1</td>\n",
       "      <td>2016-01-01 00:01:20</td>\n",
       "      <td>1</td>\n",
       "      <td>-73.970108</td>\n",
       "      <td>40.759800</td>\n",
       "      <td>-73.989357</td>\n",
       "      <td>40.742989</td>\n",
       "      <td>N</td>\n",
       "      <td>736</td>\n",
       "      <td>6.602588</td>\n",
       "    </tr>\n",
       "  </tbody>\n",
       "</table>\n",
       "</div>"
      ],
      "text/plain": [
       "               id  vendor_id      pickup_datetime  passenger_count  \\\n",
       "96469   id0190469          2  2016-01-01 00:00:17                5   \n",
       "223872  id1665586          1  2016-01-01 00:00:53                1   \n",
       "713067  id1210365          2  2016-01-01 00:01:01                5   \n",
       "652463  id3888279          1  2016-01-01 00:01:14                1   \n",
       "722901  id0924227          1  2016-01-01 00:01:20                1   \n",
       "\n",
       "        pickup_longitude  pickup_latitude  dropoff_longitude  \\\n",
       "96469         -73.981743        40.719158         -73.938828   \n",
       "223872        -73.985085        40.747166         -73.958038   \n",
       "713067        -73.965279        40.801041         -73.947479   \n",
       "652463        -73.982292        40.751331         -73.991341   \n",
       "722901        -73.970108        40.759800         -73.989357   \n",
       "\n",
       "        dropoff_latitude store_and_fwd_flag  trip_duration  log_trip_duration  \n",
       "96469          40.829182                  N            849           6.745236  \n",
       "223872         40.717491                  N           1294           7.166266  \n",
       "713067         40.815170                  N            408           6.013715  \n",
       "652463         40.750340                  N            280           5.638355  \n",
       "722901         40.742989                  N            736           6.602588  "
      ]
     },
     "execution_count": 12,
     "metadata": {},
     "output_type": "execute_result"
    }
   ],
   "source": [
    "train_df.head()"
   ]
  },
  {
   "cell_type": "code",
   "execution_count": 13,
   "metadata": {},
   "outputs": [
    {
     "name": "stderr",
     "output_type": "stream",
     "text": [
      "C:\\Games\\Code\\lib\\site-packages\\pandas\\core\\generic.py:5516: SettingWithCopyWarning: \n",
      "A value is trying to be set on a copy of a slice from a DataFrame.\n",
      "Try using .loc[row_indexer,col_indexer] = value instead\n",
      "\n",
      "See the caveats in the documentation: https://pandas.pydata.org/pandas-docs/stable/user_guide/indexing.html#returning-a-view-versus-a-copy\n",
      "  self[name] = value\n"
     ]
    }
   ],
   "source": [
    "train_df.pickup_datetime = pd.to_datetime(train_df.pickup_datetime)"
   ]
  },
  {
   "cell_type": "code",
   "execution_count": 14,
   "metadata": {},
   "outputs": [
    {
     "data": {
      "text/plain": [
       "96469     2016-01-01 00:00:17\n",
       "223872    2016-01-01 00:00:53\n",
       "713067    2016-01-01 00:01:01\n",
       "652463    2016-01-01 00:01:14\n",
       "722901    2016-01-01 00:01:20\n",
       "                  ...        \n",
       "1384418   2016-05-04 03:10:19\n",
       "1100978   2016-05-04 03:11:21\n",
       "630885    2016-05-04 03:11:36\n",
       "567651    2016-05-04 03:13:35\n",
       "777457    2016-05-04 03:14:02\n",
       "Name: pickup_datetime, Length: 1000000, dtype: datetime64[ns]"
      ]
     },
     "execution_count": 14,
     "metadata": {},
     "output_type": "execute_result"
    }
   ],
   "source": [
    "train_df.pickup_datetime"
   ]
  },
  {
   "cell_type": "code",
   "execution_count": 15,
   "metadata": {},
   "outputs": [
    {
     "data": {
      "text/plain": [
       "14"
      ]
     },
     "execution_count": 15,
     "metadata": {},
     "output_type": "execute_result"
    }
   ],
   "source": [
    "train_df.pickup_datetime[0].day"
   ]
  },
  {
   "cell_type": "code",
   "execution_count": 16,
   "metadata": {},
   "outputs": [],
   "source": [
    "date = train_df.pickup_datetime.apply(lambda x: x.date())"
   ]
  },
  {
   "cell_type": "code",
   "execution_count": 17,
   "metadata": {},
   "outputs": [
    {
     "data": {
      "text/plain": [
       "96469      2016-01-01\n",
       "223872     2016-01-01\n",
       "713067     2016-01-01\n",
       "652463     2016-01-01\n",
       "722901     2016-01-01\n",
       "              ...    \n",
       "1384418    2016-05-04\n",
       "1100978    2016-05-04\n",
       "630885     2016-05-04\n",
       "567651     2016-05-04\n",
       "777457     2016-05-04\n",
       "Name: pickup_datetime, Length: 1000000, dtype: object"
      ]
     },
     "execution_count": 17,
     "metadata": {},
     "output_type": "execute_result"
    }
   ],
   "source": [
    "date"
   ]
  },
  {
   "cell_type": "code",
   "execution_count": 18,
   "metadata": {},
   "outputs": [
    {
     "data": {
      "text/plain": [
       "[Text(0, 0, '2016-01-01'),\n",
       " Text(1, 0, '2016-01-02'),\n",
       " Text(2, 0, '2016-01-03'),\n",
       " Text(3, 0, '2016-01-04'),\n",
       " Text(4, 0, '2016-01-05'),\n",
       " Text(5, 0, '2016-01-06'),\n",
       " Text(6, 0, '2016-01-07'),\n",
       " Text(7, 0, '2016-01-08'),\n",
       " Text(8, 0, '2016-01-09'),\n",
       " Text(9, 0, '2016-01-10'),\n",
       " Text(10, 0, '2016-01-11'),\n",
       " Text(11, 0, '2016-01-12'),\n",
       " Text(12, 0, '2016-01-13'),\n",
       " Text(13, 0, '2016-01-14'),\n",
       " Text(14, 0, '2016-01-15'),\n",
       " Text(15, 0, '2016-01-16'),\n",
       " Text(16, 0, '2016-01-17'),\n",
       " Text(17, 0, '2016-01-18'),\n",
       " Text(18, 0, '2016-01-19'),\n",
       " Text(19, 0, '2016-01-20'),\n",
       " Text(20, 0, '2016-01-21'),\n",
       " Text(21, 0, '2016-01-22'),\n",
       " Text(22, 0, '2016-01-23'),\n",
       " Text(23, 0, '2016-01-24'),\n",
       " Text(24, 0, '2016-01-25'),\n",
       " Text(25, 0, '2016-01-26'),\n",
       " Text(26, 0, '2016-01-27'),\n",
       " Text(27, 0, '2016-01-28'),\n",
       " Text(28, 0, '2016-01-29'),\n",
       " Text(29, 0, '2016-01-30'),\n",
       " Text(30, 0, '2016-01-31'),\n",
       " Text(31, 0, '2016-02-01'),\n",
       " Text(32, 0, '2016-02-02'),\n",
       " Text(33, 0, '2016-02-03'),\n",
       " Text(34, 0, '2016-02-04'),\n",
       " Text(35, 0, '2016-02-05'),\n",
       " Text(36, 0, '2016-02-06'),\n",
       " Text(37, 0, '2016-02-07'),\n",
       " Text(38, 0, '2016-02-08'),\n",
       " Text(39, 0, '2016-02-09'),\n",
       " Text(40, 0, '2016-02-10'),\n",
       " Text(41, 0, '2016-02-11'),\n",
       " Text(42, 0, '2016-02-12'),\n",
       " Text(43, 0, '2016-02-13'),\n",
       " Text(44, 0, '2016-02-14'),\n",
       " Text(45, 0, '2016-02-15'),\n",
       " Text(46, 0, '2016-02-16'),\n",
       " Text(47, 0, '2016-02-17'),\n",
       " Text(48, 0, '2016-02-18'),\n",
       " Text(49, 0, '2016-02-19'),\n",
       " Text(50, 0, '2016-02-20'),\n",
       " Text(51, 0, '2016-02-21'),\n",
       " Text(52, 0, '2016-02-22'),\n",
       " Text(53, 0, '2016-02-23'),\n",
       " Text(54, 0, '2016-02-24'),\n",
       " Text(55, 0, '2016-02-25'),\n",
       " Text(56, 0, '2016-02-26'),\n",
       " Text(57, 0, '2016-02-27'),\n",
       " Text(58, 0, '2016-02-28'),\n",
       " Text(59, 0, '2016-02-29'),\n",
       " Text(60, 0, '2016-03-01'),\n",
       " Text(61, 0, '2016-03-02'),\n",
       " Text(62, 0, '2016-03-03'),\n",
       " Text(63, 0, '2016-03-04'),\n",
       " Text(64, 0, '2016-03-05'),\n",
       " Text(65, 0, '2016-03-06'),\n",
       " Text(66, 0, '2016-03-07'),\n",
       " Text(67, 0, '2016-03-08'),\n",
       " Text(68, 0, '2016-03-09'),\n",
       " Text(69, 0, '2016-03-10'),\n",
       " Text(70, 0, '2016-03-11'),\n",
       " Text(71, 0, '2016-03-12'),\n",
       " Text(72, 0, '2016-03-13'),\n",
       " Text(73, 0, '2016-03-14'),\n",
       " Text(74, 0, '2016-03-15'),\n",
       " Text(75, 0, '2016-03-16'),\n",
       " Text(76, 0, '2016-03-17'),\n",
       " Text(77, 0, '2016-03-18'),\n",
       " Text(78, 0, '2016-03-19'),\n",
       " Text(79, 0, '2016-03-20'),\n",
       " Text(80, 0, '2016-03-21'),\n",
       " Text(81, 0, '2016-03-22'),\n",
       " Text(82, 0, '2016-03-23'),\n",
       " Text(83, 0, '2016-03-24'),\n",
       " Text(84, 0, '2016-03-25'),\n",
       " Text(85, 0, '2016-03-26'),\n",
       " Text(86, 0, '2016-03-27'),\n",
       " Text(87, 0, '2016-03-28'),\n",
       " Text(88, 0, '2016-03-29'),\n",
       " Text(89, 0, '2016-03-30'),\n",
       " Text(90, 0, '2016-03-31'),\n",
       " Text(91, 0, '2016-04-01'),\n",
       " Text(92, 0, '2016-04-02'),\n",
       " Text(93, 0, '2016-04-03'),\n",
       " Text(94, 0, '2016-04-04'),\n",
       " Text(95, 0, '2016-04-05'),\n",
       " Text(96, 0, '2016-04-06'),\n",
       " Text(97, 0, '2016-04-07'),\n",
       " Text(98, 0, '2016-04-08'),\n",
       " Text(99, 0, '2016-04-09'),\n",
       " Text(100, 0, '2016-04-10'),\n",
       " Text(101, 0, '2016-04-11'),\n",
       " Text(102, 0, '2016-04-12'),\n",
       " Text(103, 0, '2016-04-13'),\n",
       " Text(104, 0, '2016-04-14'),\n",
       " Text(105, 0, '2016-04-15'),\n",
       " Text(106, 0, '2016-04-16'),\n",
       " Text(107, 0, '2016-04-17'),\n",
       " Text(108, 0, '2016-04-18'),\n",
       " Text(109, 0, '2016-04-19'),\n",
       " Text(110, 0, '2016-04-20'),\n",
       " Text(111, 0, '2016-04-21'),\n",
       " Text(112, 0, '2016-04-22'),\n",
       " Text(113, 0, '2016-04-23'),\n",
       " Text(114, 0, '2016-04-24'),\n",
       " Text(115, 0, '2016-04-25'),\n",
       " Text(116, 0, '2016-04-26'),\n",
       " Text(117, 0, '2016-04-27'),\n",
       " Text(118, 0, '2016-04-28'),\n",
       " Text(119, 0, '2016-04-29'),\n",
       " Text(120, 0, '2016-04-30'),\n",
       " Text(121, 0, '2016-05-01'),\n",
       " Text(122, 0, '2016-05-02'),\n",
       " Text(123, 0, '2016-05-03'),\n",
       " Text(124, 0, '2016-05-04')]"
      ]
     },
     "execution_count": 18,
     "metadata": {},
     "output_type": "execute_result"
    },
    {
     "data": {
      "image/png": "[encoded data removed]",
      "text/plain": [
       "<Figure size 1800x360 with 1 Axes>"
      ]
     },
     "metadata": {
      "needs_background": "light"
     },
     "output_type": "display_data"
    }
   ],
   "source": [
    "plt.figure(figsize=(25, 5))\n",
    "date_count_plot = sns.countplot(x=date)\n",
    "date_count_plot.set_xticklabels(date_count_plot.get_xticklabels(), rotation=90)"
   ]
  },
  {
   "cell_type": "code",
   "execution_count": 19,
   "metadata": {},
   "outputs": [
    {
     "data": {
      "text/plain": [
       "<seaborn.axisgrid.FacetGrid at 0x280326b1310>"
      ]
     },
     "execution_count": 19,
     "metadata": {},
     "output_type": "execute_result"
    },
    {
     "data": {
      "image/png": "[encoded data removed]",
      "text/plain": [
       "<Figure size 360x360 with 1 Axes>"
      ]
     },
     "metadata": {
      "needs_background": "light"
     },
     "output_type": "display_data"
    }
   ],
   "source": [
    "grouped_train = train_df.groupby(by=date)\n",
    "sns.relplot(data=grouped_train.log_trip_duration.aggregate('mean'), kind='line')"
   ]
  },
  {
   "cell_type": "code",
   "execution_count": 20,
   "metadata": {},
   "outputs": [
    {
     "data": {
      "text/html": [
       "<div>\n",
       "<style scoped>\n",
       "    .dataframe tbody tr th:only-of-type {\n",
       "        vertical-align: middle;\n",
       "    }\n",
       "\n",
       "    .dataframe tbody tr th {\n",
       "        vertical-align: top;\n",
       "    }\n",
       "\n",
       "    .dataframe thead th {\n",
       "        text-align: right;\n",
       "    }\n",
       "</style>\n",
       "<table border=\"1\" class=\"dataframe\">\n",
       "  <thead>\n",
       "    <tr style=\"text-align: right;\">\n",
       "      <th></th>\n",
       "      <th>id</th>\n",
       "      <th>vendor_id</th>\n",
       "      <th>pickup_datetime</th>\n",
       "      <th>passenger_count</th>\n",
       "      <th>pickup_longitude</th>\n",
       "      <th>pickup_latitude</th>\n",
       "      <th>dropoff_longitude</th>\n",
       "      <th>dropoff_latitude</th>\n",
       "      <th>store_and_fwd_flag</th>\n",
       "      <th>trip_duration</th>\n",
       "      <th>log_trip_duration</th>\n",
       "    </tr>\n",
       "  </thead>\n",
       "  <tbody>\n",
       "    <tr>\n",
       "      <th>96469</th>\n",
       "      <td>id0190469</td>\n",
       "      <td>2</td>\n",
       "      <td>2016-01-01 00:00:17</td>\n",
       "      <td>5</td>\n",
       "      <td>-73.981743</td>\n",
       "      <td>40.719158</td>\n",
       "      <td>-73.938828</td>\n",
       "      <td>40.829182</td>\n",
       "      <td>N</td>\n",
       "      <td>849</td>\n",
       "      <td>6.745236</td>\n",
       "    </tr>\n",
       "    <tr>\n",
       "      <th>223872</th>\n",
       "      <td>id1665586</td>\n",
       "      <td>1</td>\n",
       "      <td>2016-01-01 00:00:53</td>\n",
       "      <td>1</td>\n",
       "      <td>-73.985085</td>\n",
       "      <td>40.747166</td>\n",
       "      <td>-73.958038</td>\n",
       "      <td>40.717491</td>\n",
       "      <td>N</td>\n",
       "      <td>1294</td>\n",
       "      <td>7.166266</td>\n",
       "    </tr>\n",
       "    <tr>\n",
       "      <th>713067</th>\n",
       "      <td>id1210365</td>\n",
       "      <td>2</td>\n",
       "      <td>2016-01-01 00:01:01</td>\n",
       "      <td>5</td>\n",
       "      <td>-73.965279</td>\n",
       "      <td>40.801041</td>\n",
       "      <td>-73.947479</td>\n",
       "      <td>40.815170</td>\n",
       "      <td>N</td>\n",
       "      <td>408</td>\n",
       "      <td>6.013715</td>\n",
       "    </tr>\n",
       "    <tr>\n",
       "      <th>652463</th>\n",
       "      <td>id3888279</td>\n",
       "      <td>1</td>\n",
       "      <td>2016-01-01 00:01:14</td>\n",
       "      <td>1</td>\n",
       "      <td>-73.982292</td>\n",
       "      <td>40.751331</td>\n",
       "      <td>-73.991341</td>\n",
       "      <td>40.750340</td>\n",
       "      <td>N</td>\n",
       "      <td>280</td>\n",
       "      <td>5.638355</td>\n",
       "    </tr>\n",
       "    <tr>\n",
       "      <th>722901</th>\n",
       "      <td>id0924227</td>\n",
       "      <td>1</td>\n",
       "      <td>2016-01-01 00:01:20</td>\n",
       "      <td>1</td>\n",
       "      <td>-73.970108</td>\n",
       "      <td>40.759800</td>\n",
       "      <td>-73.989357</td>\n",
       "      <td>40.742989</td>\n",
       "      <td>N</td>\n",
       "      <td>736</td>\n",
       "      <td>6.602588</td>\n",
       "    </tr>\n",
       "  </tbody>\n",
       "</table>\n",
       "</div>"
      ],
      "text/plain": [
       "               id  vendor_id     pickup_datetime  passenger_count  \\\n",
       "96469   id0190469          2 2016-01-01 00:00:17                5   \n",
       "223872  id1665586          1 2016-01-01 00:00:53                1   \n",
       "713067  id1210365          2 2016-01-01 00:01:01                5   \n",
       "652463  id3888279          1 2016-01-01 00:01:14                1   \n",
       "722901  id0924227          1 2016-01-01 00:01:20                1   \n",
       "\n",
       "        pickup_longitude  pickup_latitude  dropoff_longitude  \\\n",
       "96469         -73.981743        40.719158         -73.938828   \n",
       "223872        -73.985085        40.747166         -73.958038   \n",
       "713067        -73.965279        40.801041         -73.947479   \n",
       "652463        -73.982292        40.751331         -73.991341   \n",
       "722901        -73.970108        40.759800         -73.989357   \n",
       "\n",
       "        dropoff_latitude store_and_fwd_flag  trip_duration  log_trip_duration  \n",
       "96469          40.829182                  N            849           6.745236  \n",
       "223872         40.717491                  N           1294           7.166266  \n",
       "713067         40.815170                  N            408           6.013715  \n",
       "652463         40.750340                  N            280           5.638355  \n",
       "722901         40.742989                  N            736           6.602588  "
      ]
     },
     "execution_count": 20,
     "metadata": {},
     "output_type": "execute_result"
    }
   ],
   "source": [
    "train_df.head()"
   ]
  },
  {
   "cell_type": "code",
   "execution_count": 21,
   "metadata": {},
   "outputs": [
    {
     "data": {
      "text/html": [
       "<div>\n",
       "<style scoped>\n",
       "    .dataframe tbody tr th:only-of-type {\n",
       "        vertical-align: middle;\n",
       "    }\n",
       "\n",
       "    .dataframe tbody tr th {\n",
       "        vertical-align: top;\n",
       "    }\n",
       "\n",
       "    .dataframe thead th {\n",
       "        text-align: right;\n",
       "    }\n",
       "</style>\n",
       "<table border=\"1\" class=\"dataframe\">\n",
       "  <thead>\n",
       "    <tr style=\"text-align: right;\">\n",
       "      <th></th>\n",
       "      <th>id</th>\n",
       "      <th>vendor_id</th>\n",
       "      <th>pickup_datetime</th>\n",
       "      <th>passenger_count</th>\n",
       "      <th>pickup_longitude</th>\n",
       "      <th>pickup_latitude</th>\n",
       "      <th>dropoff_longitude</th>\n",
       "      <th>dropoff_latitude</th>\n",
       "      <th>store_and_fwd_flag</th>\n",
       "      <th>trip_duration</th>\n",
       "      <th>log_trip_duration</th>\n",
       "    </tr>\n",
       "  </thead>\n",
       "  <tbody>\n",
       "    <tr>\n",
       "      <th>1113990</th>\n",
       "      <td>id2197713</td>\n",
       "      <td>2</td>\n",
       "      <td>2016-01-23 00:00:03</td>\n",
       "      <td>1</td>\n",
       "      <td>-73.988632</td>\n",
       "      <td>40.749088</td>\n",
       "      <td>-73.987259</td>\n",
       "      <td>40.768440</td>\n",
       "      <td>N</td>\n",
       "      <td>495</td>\n",
       "      <td>6.206576</td>\n",
       "    </tr>\n",
       "    <tr>\n",
       "      <th>546086</th>\n",
       "      <td>id1836431</td>\n",
       "      <td>1</td>\n",
       "      <td>2016-01-23 00:00:16</td>\n",
       "      <td>1</td>\n",
       "      <td>-74.004326</td>\n",
       "      <td>40.742359</td>\n",
       "      <td>-73.979446</td>\n",
       "      <td>40.749588</td>\n",
       "      <td>N</td>\n",
       "      <td>1578</td>\n",
       "      <td>7.364547</td>\n",
       "    </tr>\n",
       "    <tr>\n",
       "      <th>738896</th>\n",
       "      <td>id1701197</td>\n",
       "      <td>2</td>\n",
       "      <td>2016-01-23 00:00:20</td>\n",
       "      <td>1</td>\n",
       "      <td>-73.957092</td>\n",
       "      <td>40.770256</td>\n",
       "      <td>-73.974060</td>\n",
       "      <td>40.761585</td>\n",
       "      <td>N</td>\n",
       "      <td>504</td>\n",
       "      <td>6.224558</td>\n",
       "    </tr>\n",
       "    <tr>\n",
       "      <th>220854</th>\n",
       "      <td>id0682965</td>\n",
       "      <td>1</td>\n",
       "      <td>2016-01-23 00:00:21</td>\n",
       "      <td>2</td>\n",
       "      <td>-74.004860</td>\n",
       "      <td>40.740711</td>\n",
       "      <td>-73.986984</td>\n",
       "      <td>40.721104</td>\n",
       "      <td>N</td>\n",
       "      <td>962</td>\n",
       "      <td>6.870053</td>\n",
       "    </tr>\n",
       "    <tr>\n",
       "      <th>822393</th>\n",
       "      <td>id1357784</td>\n",
       "      <td>2</td>\n",
       "      <td>2016-01-23 00:00:24</td>\n",
       "      <td>2</td>\n",
       "      <td>-73.997353</td>\n",
       "      <td>40.719212</td>\n",
       "      <td>-73.987427</td>\n",
       "      <td>40.738743</td>\n",
       "      <td>N</td>\n",
       "      <td>839</td>\n",
       "      <td>6.733402</td>\n",
       "    </tr>\n",
       "    <tr>\n",
       "      <th>...</th>\n",
       "      <td>...</td>\n",
       "      <td>...</td>\n",
       "      <td>...</td>\n",
       "      <td>...</td>\n",
       "      <td>...</td>\n",
       "      <td>...</td>\n",
       "      <td>...</td>\n",
       "      <td>...</td>\n",
       "      <td>...</td>\n",
       "      <td>...</td>\n",
       "      <td>...</td>\n",
       "    </tr>\n",
       "    <tr>\n",
       "      <th>136854</th>\n",
       "      <td>id0601156</td>\n",
       "      <td>1</td>\n",
       "      <td>2016-01-24 23:57:23</td>\n",
       "      <td>1</td>\n",
       "      <td>-73.953217</td>\n",
       "      <td>40.775810</td>\n",
       "      <td>-73.967766</td>\n",
       "      <td>40.762749</td>\n",
       "      <td>N</td>\n",
       "      <td>357</td>\n",
       "      <td>5.880533</td>\n",
       "    </tr>\n",
       "    <tr>\n",
       "      <th>221151</th>\n",
       "      <td>id1748595</td>\n",
       "      <td>2</td>\n",
       "      <td>2016-01-24 23:58:29</td>\n",
       "      <td>5</td>\n",
       "      <td>-73.948738</td>\n",
       "      <td>40.781879</td>\n",
       "      <td>-73.965340</td>\n",
       "      <td>40.759232</td>\n",
       "      <td>N</td>\n",
       "      <td>361</td>\n",
       "      <td>5.891644</td>\n",
       "    </tr>\n",
       "    <tr>\n",
       "      <th>612802</th>\n",
       "      <td>id0721230</td>\n",
       "      <td>2</td>\n",
       "      <td>2016-01-24 23:59:12</td>\n",
       "      <td>1</td>\n",
       "      <td>-73.863052</td>\n",
       "      <td>40.769279</td>\n",
       "      <td>-73.796631</td>\n",
       "      <td>40.790138</td>\n",
       "      <td>N</td>\n",
       "      <td>1557</td>\n",
       "      <td>7.351158</td>\n",
       "    </tr>\n",
       "    <tr>\n",
       "      <th>757084</th>\n",
       "      <td>id2944054</td>\n",
       "      <td>1</td>\n",
       "      <td>2016-01-24 23:59:37</td>\n",
       "      <td>1</td>\n",
       "      <td>-73.960403</td>\n",
       "      <td>40.761612</td>\n",
       "      <td>-73.921616</td>\n",
       "      <td>40.743359</td>\n",
       "      <td>N</td>\n",
       "      <td>637</td>\n",
       "      <td>6.458338</td>\n",
       "    </tr>\n",
       "    <tr>\n",
       "      <th>1056300</th>\n",
       "      <td>id0125175</td>\n",
       "      <td>2</td>\n",
       "      <td>2016-01-24 23:59:49</td>\n",
       "      <td>1</td>\n",
       "      <td>-73.801048</td>\n",
       "      <td>40.670959</td>\n",
       "      <td>-74.005692</td>\n",
       "      <td>40.745312</td>\n",
       "      <td>N</td>\n",
       "      <td>1682</td>\n",
       "      <td>7.428333</td>\n",
       "    </tr>\n",
       "  </tbody>\n",
       "</table>\n",
       "<p>5031 rows × 11 columns</p>\n",
       "</div>"
      ],
      "text/plain": [
       "                id  vendor_id     pickup_datetime  passenger_count  \\\n",
       "1113990  id2197713          2 2016-01-23 00:00:03                1   \n",
       "546086   id1836431          1 2016-01-23 00:00:16                1   \n",
       "738896   id1701197          2 2016-01-23 00:00:20                1   \n",
       "220854   id0682965          1 2016-01-23 00:00:21                2   \n",
       "822393   id1357784          2 2016-01-23 00:00:24                2   \n",
       "...            ...        ...                 ...              ...   \n",
       "136854   id0601156          1 2016-01-24 23:57:23                1   \n",
       "221151   id1748595          2 2016-01-24 23:58:29                5   \n",
       "612802   id0721230          2 2016-01-24 23:59:12                1   \n",
       "757084   id2944054          1 2016-01-24 23:59:37                1   \n",
       "1056300  id0125175          2 2016-01-24 23:59:49                1   \n",
       "\n",
       "         pickup_longitude  pickup_latitude  dropoff_longitude  \\\n",
       "1113990        -73.988632        40.749088         -73.987259   \n",
       "546086         -74.004326        40.742359         -73.979446   \n",
       "738896         -73.957092        40.770256         -73.974060   \n",
       "220854         -74.004860        40.740711         -73.986984   \n",
       "822393         -73.997353        40.719212         -73.987427   \n",
       "...                   ...              ...                ...   \n",
       "136854         -73.953217        40.775810         -73.967766   \n",
       "221151         -73.948738        40.781879         -73.965340   \n",
       "612802         -73.863052        40.769279         -73.796631   \n",
       "757084         -73.960403        40.761612         -73.921616   \n",
       "1056300        -73.801048        40.670959         -74.005692   \n",
       "\n",
       "         dropoff_latitude store_and_fwd_flag  trip_duration  log_trip_duration  \n",
       "1113990         40.768440                  N            495           6.206576  \n",
       "546086          40.749588                  N           1578           7.364547  \n",
       "738896          40.761585                  N            504           6.224558  \n",
       "220854          40.721104                  N            962           6.870053  \n",
       "822393          40.738743                  N            839           6.733402  \n",
       "...                   ...                ...            ...                ...  \n",
       "136854          40.762749                  N            357           5.880533  \n",
       "221151          40.759232                  N            361           5.891644  \n",
       "612802          40.790138                  N           1557           7.351158  \n",
       "757084          40.743359                  N            637           6.458338  \n",
       "1056300         40.745312                  N           1682           7.428333  \n",
       "\n",
       "[5031 rows x 11 columns]"
      ]
     },
     "execution_count": 21,
     "metadata": {},
     "output_type": "execute_result"
    }
   ],
   "source": [
    "train_df.query(\"'2016-01-23' <= pickup_datetime < '2016-01-25'\")\n",
    "# train_df.set_index('pickup_datetime')['2016-01-23':'2016-01-24'] одинаковый функционал примерно,\n",
    "# kiska = pd.date_range(start='1/23/2016', end='1/24/2016') создает два штампа времени, но не вышло по ним ориентироваться\n",
    "#  А с верхним получилось взаимодействовать"
   ]
  },
  {
   "cell_type": "code",
   "execution_count": 22,
   "metadata": {},
   "outputs": [
    {
     "name": "stderr",
     "output_type": "stream",
     "text": [
      "C:\\Users\\AACE~1\\AppData\\Local\\Temp/ipykernel_11952/1454534397.py:1: SettingWithCopyWarning: \n",
      "A value is trying to be set on a copy of a slice from a DataFrame.\n",
      "Try using .loc[row_indexer,col_indexer] = value instead\n",
      "\n",
      "See the caveats in the documentation: https://pandas.pydata.org/pandas-docs/stable/user_guide/indexing.html#returning-a-view-versus-a-copy\n",
      "  train_df['anomaly'] = 0\n"
     ]
    }
   ],
   "source": [
    "train_df['anomaly'] = 0\n",
    "#колонка anomaly где все значения по 0"
   ]
  },
  {
   "cell_type": "code",
   "execution_count": 23,
   "metadata": {},
   "outputs": [
    {
     "name": "stderr",
     "output_type": "stream",
     "text": [
      "C:\\Users\\AACE~1\\AppData\\Local\\Temp/ipykernel_11952/2078294047.py:3: SettingWithCopyWarning: \n",
      "A value is trying to be set on a copy of a slice from a DataFrame.\n",
      "Try using .loc[row_indexer,col_indexer] = value instead\n",
      "\n",
      "See the caveats in the documentation: https://pandas.pydata.org/pandas-docs/stable/user_guide/indexing.html#returning-a-view-versus-a-copy\n",
      "  k['anomaly'] = 1\n"
     ]
    },
    {
     "data": {
      "text/html": [
       "<div>\n",
       "<style scoped>\n",
       "    .dataframe tbody tr th:only-of-type {\n",
       "        vertical-align: middle;\n",
       "    }\n",
       "\n",
       "    .dataframe tbody tr th {\n",
       "        vertical-align: top;\n",
       "    }\n",
       "\n",
       "    .dataframe thead th {\n",
       "        text-align: right;\n",
       "    }\n",
       "</style>\n",
       "<table border=\"1\" class=\"dataframe\">\n",
       "  <thead>\n",
       "    <tr style=\"text-align: right;\">\n",
       "      <th></th>\n",
       "      <th>id</th>\n",
       "      <th>vendor_id</th>\n",
       "      <th>pickup_datetime</th>\n",
       "      <th>passenger_count</th>\n",
       "      <th>pickup_longitude</th>\n",
       "      <th>pickup_latitude</th>\n",
       "      <th>dropoff_longitude</th>\n",
       "      <th>dropoff_latitude</th>\n",
       "      <th>store_and_fwd_flag</th>\n",
       "      <th>trip_duration</th>\n",
       "      <th>log_trip_duration</th>\n",
       "      <th>anomaly</th>\n",
       "    </tr>\n",
       "  </thead>\n",
       "  <tbody>\n",
       "    <tr>\n",
       "      <th>1113990</th>\n",
       "      <td>id2197713</td>\n",
       "      <td>2</td>\n",
       "      <td>2016-01-23 00:00:03</td>\n",
       "      <td>1</td>\n",
       "      <td>-73.988632</td>\n",
       "      <td>40.749088</td>\n",
       "      <td>-73.987259</td>\n",
       "      <td>40.768440</td>\n",
       "      <td>N</td>\n",
       "      <td>495</td>\n",
       "      <td>6.206576</td>\n",
       "      <td>1</td>\n",
       "    </tr>\n",
       "    <tr>\n",
       "      <th>546086</th>\n",
       "      <td>id1836431</td>\n",
       "      <td>1</td>\n",
       "      <td>2016-01-23 00:00:16</td>\n",
       "      <td>1</td>\n",
       "      <td>-74.004326</td>\n",
       "      <td>40.742359</td>\n",
       "      <td>-73.979446</td>\n",
       "      <td>40.749588</td>\n",
       "      <td>N</td>\n",
       "      <td>1578</td>\n",
       "      <td>7.364547</td>\n",
       "      <td>1</td>\n",
       "    </tr>\n",
       "    <tr>\n",
       "      <th>738896</th>\n",
       "      <td>id1701197</td>\n",
       "      <td>2</td>\n",
       "      <td>2016-01-23 00:00:20</td>\n",
       "      <td>1</td>\n",
       "      <td>-73.957092</td>\n",
       "      <td>40.770256</td>\n",
       "      <td>-73.974060</td>\n",
       "      <td>40.761585</td>\n",
       "      <td>N</td>\n",
       "      <td>504</td>\n",
       "      <td>6.224558</td>\n",
       "      <td>1</td>\n",
       "    </tr>\n",
       "    <tr>\n",
       "      <th>220854</th>\n",
       "      <td>id0682965</td>\n",
       "      <td>1</td>\n",
       "      <td>2016-01-23 00:00:21</td>\n",
       "      <td>2</td>\n",
       "      <td>-74.004860</td>\n",
       "      <td>40.740711</td>\n",
       "      <td>-73.986984</td>\n",
       "      <td>40.721104</td>\n",
       "      <td>N</td>\n",
       "      <td>962</td>\n",
       "      <td>6.870053</td>\n",
       "      <td>1</td>\n",
       "    </tr>\n",
       "    <tr>\n",
       "      <th>822393</th>\n",
       "      <td>id1357784</td>\n",
       "      <td>2</td>\n",
       "      <td>2016-01-23 00:00:24</td>\n",
       "      <td>2</td>\n",
       "      <td>-73.997353</td>\n",
       "      <td>40.719212</td>\n",
       "      <td>-73.987427</td>\n",
       "      <td>40.738743</td>\n",
       "      <td>N</td>\n",
       "      <td>839</td>\n",
       "      <td>6.733402</td>\n",
       "      <td>1</td>\n",
       "    </tr>\n",
       "    <tr>\n",
       "      <th>...</th>\n",
       "      <td>...</td>\n",
       "      <td>...</td>\n",
       "      <td>...</td>\n",
       "      <td>...</td>\n",
       "      <td>...</td>\n",
       "      <td>...</td>\n",
       "      <td>...</td>\n",
       "      <td>...</td>\n",
       "      <td>...</td>\n",
       "      <td>...</td>\n",
       "      <td>...</td>\n",
       "      <td>...</td>\n",
       "    </tr>\n",
       "    <tr>\n",
       "      <th>1384418</th>\n",
       "      <td>id2351670</td>\n",
       "      <td>2</td>\n",
       "      <td>2016-05-04 03:10:19</td>\n",
       "      <td>1</td>\n",
       "      <td>-73.990578</td>\n",
       "      <td>40.757702</td>\n",
       "      <td>-73.920914</td>\n",
       "      <td>40.756573</td>\n",
       "      <td>N</td>\n",
       "      <td>841</td>\n",
       "      <td>6.735780</td>\n",
       "      <td>0</td>\n",
       "    </tr>\n",
       "    <tr>\n",
       "      <th>1100978</th>\n",
       "      <td>id0756776</td>\n",
       "      <td>1</td>\n",
       "      <td>2016-05-04 03:11:21</td>\n",
       "      <td>1</td>\n",
       "      <td>-73.994774</td>\n",
       "      <td>40.760296</td>\n",
       "      <td>-73.984291</td>\n",
       "      <td>40.766556</td>\n",
       "      <td>N</td>\n",
       "      <td>137</td>\n",
       "      <td>4.927254</td>\n",
       "      <td>0</td>\n",
       "    </tr>\n",
       "    <tr>\n",
       "      <th>630885</th>\n",
       "      <td>id1074885</td>\n",
       "      <td>1</td>\n",
       "      <td>2016-05-04 03:11:36</td>\n",
       "      <td>1</td>\n",
       "      <td>-73.986427</td>\n",
       "      <td>40.741432</td>\n",
       "      <td>-73.895416</td>\n",
       "      <td>40.758724</td>\n",
       "      <td>N</td>\n",
       "      <td>1002</td>\n",
       "      <td>6.910751</td>\n",
       "      <td>0</td>\n",
       "    </tr>\n",
       "    <tr>\n",
       "      <th>567651</th>\n",
       "      <td>id1753963</td>\n",
       "      <td>2</td>\n",
       "      <td>2016-05-04 03:13:35</td>\n",
       "      <td>5</td>\n",
       "      <td>-73.994522</td>\n",
       "      <td>40.724815</td>\n",
       "      <td>-73.990700</td>\n",
       "      <td>40.723518</td>\n",
       "      <td>N</td>\n",
       "      <td>189</td>\n",
       "      <td>5.247024</td>\n",
       "      <td>0</td>\n",
       "    </tr>\n",
       "    <tr>\n",
       "      <th>777457</th>\n",
       "      <td>id3285281</td>\n",
       "      <td>1</td>\n",
       "      <td>2016-05-04 03:14:02</td>\n",
       "      <td>2</td>\n",
       "      <td>-73.976295</td>\n",
       "      <td>40.785774</td>\n",
       "      <td>-73.964218</td>\n",
       "      <td>40.797379</td>\n",
       "      <td>N</td>\n",
       "      <td>157</td>\n",
       "      <td>5.062595</td>\n",
       "      <td>0</td>\n",
       "    </tr>\n",
       "  </tbody>\n",
       "</table>\n",
       "<p>1005031 rows × 12 columns</p>\n",
       "</div>"
      ],
      "text/plain": [
       "                id  vendor_id     pickup_datetime  passenger_count  \\\n",
       "1113990  id2197713          2 2016-01-23 00:00:03                1   \n",
       "546086   id1836431          1 2016-01-23 00:00:16                1   \n",
       "738896   id1701197          2 2016-01-23 00:00:20                1   \n",
       "220854   id0682965          1 2016-01-23 00:00:21                2   \n",
       "822393   id1357784          2 2016-01-23 00:00:24                2   \n",
       "...            ...        ...                 ...              ...   \n",
       "1384418  id2351670          2 2016-05-04 03:10:19                1   \n",
       "1100978  id0756776          1 2016-05-04 03:11:21                1   \n",
       "630885   id1074885          1 2016-05-04 03:11:36                1   \n",
       "567651   id1753963          2 2016-05-04 03:13:35                5   \n",
       "777457   id3285281          1 2016-05-04 03:14:02                2   \n",
       "\n",
       "         pickup_longitude  pickup_latitude  dropoff_longitude  \\\n",
       "1113990        -73.988632        40.749088         -73.987259   \n",
       "546086         -74.004326        40.742359         -73.979446   \n",
       "738896         -73.957092        40.770256         -73.974060   \n",
       "220854         -74.004860        40.740711         -73.986984   \n",
       "822393         -73.997353        40.719212         -73.987427   \n",
       "...                   ...              ...                ...   \n",
       "1384418        -73.990578        40.757702         -73.920914   \n",
       "1100978        -73.994774        40.760296         -73.984291   \n",
       "630885         -73.986427        40.741432         -73.895416   \n",
       "567651         -73.994522        40.724815         -73.990700   \n",
       "777457         -73.976295        40.785774         -73.964218   \n",
       "\n",
       "         dropoff_latitude store_and_fwd_flag  trip_duration  \\\n",
       "1113990         40.768440                  N            495   \n",
       "546086          40.749588                  N           1578   \n",
       "738896          40.761585                  N            504   \n",
       "220854          40.721104                  N            962   \n",
       "822393          40.738743                  N            839   \n",
       "...                   ...                ...            ...   \n",
       "1384418         40.756573                  N            841   \n",
       "1100978         40.766556                  N            137   \n",
       "630885          40.758724                  N           1002   \n",
       "567651          40.723518                  N            189   \n",
       "777457          40.797379                  N            157   \n",
       "\n",
       "         log_trip_duration  anomaly  \n",
       "1113990           6.206576        1  \n",
       "546086            7.364547        1  \n",
       "738896            6.224558        1  \n",
       "220854            6.870053        1  \n",
       "822393            6.733402        1  \n",
       "...                    ...      ...  \n",
       "1384418           6.735780        0  \n",
       "1100978           4.927254        0  \n",
       "630885            6.910751        0  \n",
       "567651            5.247024        0  \n",
       "777457            5.062595        0  \n",
       "\n",
       "[1005031 rows x 12 columns]"
      ]
     },
     "execution_count": 23,
     "metadata": {},
     "output_type": "execute_result"
    }
   ],
   "source": [
    "#train_df.set_index('pickup_datetime')['2016-01-23':'2016-01-24']\n",
    "k = train_df.query(\"'2016-01-23' <= pickup_datetime < '2016-01-25'\")\n",
    "k['anomaly'] = 1\n",
    "testik = pd.concat([k, train_df])\n",
    "testik"
   ]
  },
  {
   "cell_type": "code",
   "execution_count": 24,
   "metadata": {},
   "outputs": [],
   "source": [
    "testik = testik.drop_duplicates(subset=['pickup_datetime', 'anomaly'], keep='first')"
   ]
  },
  {
   "cell_type": "code",
   "execution_count": 25,
   "metadata": {},
   "outputs": [],
   "source": [
    "train_df1 = train_df.drop_duplicates(subset=['pickup_datetime'], keep='first')"
   ]
  },
  {
   "cell_type": "code",
   "execution_count": 26,
   "metadata": {},
   "outputs": [
    {
     "data": {
      "text/html": [
       "<div>\n",
       "<style scoped>\n",
       "    .dataframe tbody tr th:only-of-type {\n",
       "        vertical-align: middle;\n",
       "    }\n",
       "\n",
       "    .dataframe tbody tr th {\n",
       "        vertical-align: top;\n",
       "    }\n",
       "\n",
       "    .dataframe thead th {\n",
       "        text-align: right;\n",
       "    }\n",
       "</style>\n",
       "<table border=\"1\" class=\"dataframe\">\n",
       "  <thead>\n",
       "    <tr style=\"text-align: right;\">\n",
       "      <th></th>\n",
       "      <th>id</th>\n",
       "      <th>vendor_id</th>\n",
       "      <th>pickup_datetime</th>\n",
       "      <th>passenger_count</th>\n",
       "      <th>pickup_longitude</th>\n",
       "      <th>pickup_latitude</th>\n",
       "      <th>dropoff_longitude</th>\n",
       "      <th>dropoff_latitude</th>\n",
       "      <th>store_and_fwd_flag</th>\n",
       "      <th>trip_duration</th>\n",
       "      <th>log_trip_duration</th>\n",
       "      <th>anomaly</th>\n",
       "    </tr>\n",
       "  </thead>\n",
       "  <tbody>\n",
       "    <tr>\n",
       "      <th>96469</th>\n",
       "      <td>id0190469</td>\n",
       "      <td>2</td>\n",
       "      <td>2016-01-01 00:00:17</td>\n",
       "      <td>5</td>\n",
       "      <td>-73.981743</td>\n",
       "      <td>40.719158</td>\n",
       "      <td>-73.938828</td>\n",
       "      <td>40.829182</td>\n",
       "      <td>N</td>\n",
       "      <td>849</td>\n",
       "      <td>6.745236</td>\n",
       "      <td>0</td>\n",
       "    </tr>\n",
       "    <tr>\n",
       "      <th>223872</th>\n",
       "      <td>id1665586</td>\n",
       "      <td>1</td>\n",
       "      <td>2016-01-01 00:00:53</td>\n",
       "      <td>1</td>\n",
       "      <td>-73.985085</td>\n",
       "      <td>40.747166</td>\n",
       "      <td>-73.958038</td>\n",
       "      <td>40.717491</td>\n",
       "      <td>N</td>\n",
       "      <td>1294</td>\n",
       "      <td>7.166266</td>\n",
       "      <td>0</td>\n",
       "    </tr>\n",
       "    <tr>\n",
       "      <th>713067</th>\n",
       "      <td>id1210365</td>\n",
       "      <td>2</td>\n",
       "      <td>2016-01-01 00:01:01</td>\n",
       "      <td>5</td>\n",
       "      <td>-73.965279</td>\n",
       "      <td>40.801041</td>\n",
       "      <td>-73.947479</td>\n",
       "      <td>40.815170</td>\n",
       "      <td>N</td>\n",
       "      <td>408</td>\n",
       "      <td>6.013715</td>\n",
       "      <td>0</td>\n",
       "    </tr>\n",
       "    <tr>\n",
       "      <th>652463</th>\n",
       "      <td>id3888279</td>\n",
       "      <td>1</td>\n",
       "      <td>2016-01-01 00:01:14</td>\n",
       "      <td>1</td>\n",
       "      <td>-73.982292</td>\n",
       "      <td>40.751331</td>\n",
       "      <td>-73.991341</td>\n",
       "      <td>40.750340</td>\n",
       "      <td>N</td>\n",
       "      <td>280</td>\n",
       "      <td>5.638355</td>\n",
       "      <td>0</td>\n",
       "    </tr>\n",
       "    <tr>\n",
       "      <th>722901</th>\n",
       "      <td>id0924227</td>\n",
       "      <td>1</td>\n",
       "      <td>2016-01-01 00:01:20</td>\n",
       "      <td>1</td>\n",
       "      <td>-73.970108</td>\n",
       "      <td>40.759800</td>\n",
       "      <td>-73.989357</td>\n",
       "      <td>40.742989</td>\n",
       "      <td>N</td>\n",
       "      <td>736</td>\n",
       "      <td>6.602588</td>\n",
       "      <td>0</td>\n",
       "    </tr>\n",
       "    <tr>\n",
       "      <th>...</th>\n",
       "      <td>...</td>\n",
       "      <td>...</td>\n",
       "      <td>...</td>\n",
       "      <td>...</td>\n",
       "      <td>...</td>\n",
       "      <td>...</td>\n",
       "      <td>...</td>\n",
       "      <td>...</td>\n",
       "      <td>...</td>\n",
       "      <td>...</td>\n",
       "      <td>...</td>\n",
       "      <td>...</td>\n",
       "    </tr>\n",
       "    <tr>\n",
       "      <th>1384418</th>\n",
       "      <td>id2351670</td>\n",
       "      <td>2</td>\n",
       "      <td>2016-05-04 03:10:19</td>\n",
       "      <td>1</td>\n",
       "      <td>-73.990578</td>\n",
       "      <td>40.757702</td>\n",
       "      <td>-73.920914</td>\n",
       "      <td>40.756573</td>\n",
       "      <td>N</td>\n",
       "      <td>841</td>\n",
       "      <td>6.735780</td>\n",
       "      <td>0</td>\n",
       "    </tr>\n",
       "    <tr>\n",
       "      <th>1100978</th>\n",
       "      <td>id0756776</td>\n",
       "      <td>1</td>\n",
       "      <td>2016-05-04 03:11:21</td>\n",
       "      <td>1</td>\n",
       "      <td>-73.994774</td>\n",
       "      <td>40.760296</td>\n",
       "      <td>-73.984291</td>\n",
       "      <td>40.766556</td>\n",
       "      <td>N</td>\n",
       "      <td>137</td>\n",
       "      <td>4.927254</td>\n",
       "      <td>0</td>\n",
       "    </tr>\n",
       "    <tr>\n",
       "      <th>630885</th>\n",
       "      <td>id1074885</td>\n",
       "      <td>1</td>\n",
       "      <td>2016-05-04 03:11:36</td>\n",
       "      <td>1</td>\n",
       "      <td>-73.986427</td>\n",
       "      <td>40.741432</td>\n",
       "      <td>-73.895416</td>\n",
       "      <td>40.758724</td>\n",
       "      <td>N</td>\n",
       "      <td>1002</td>\n",
       "      <td>6.910751</td>\n",
       "      <td>0</td>\n",
       "    </tr>\n",
       "    <tr>\n",
       "      <th>567651</th>\n",
       "      <td>id1753963</td>\n",
       "      <td>2</td>\n",
       "      <td>2016-05-04 03:13:35</td>\n",
       "      <td>5</td>\n",
       "      <td>-73.994522</td>\n",
       "      <td>40.724815</td>\n",
       "      <td>-73.990700</td>\n",
       "      <td>40.723518</td>\n",
       "      <td>N</td>\n",
       "      <td>189</td>\n",
       "      <td>5.247024</td>\n",
       "      <td>0</td>\n",
       "    </tr>\n",
       "    <tr>\n",
       "      <th>777457</th>\n",
       "      <td>id3285281</td>\n",
       "      <td>1</td>\n",
       "      <td>2016-05-04 03:14:02</td>\n",
       "      <td>2</td>\n",
       "      <td>-73.976295</td>\n",
       "      <td>40.785774</td>\n",
       "      <td>-73.964218</td>\n",
       "      <td>40.797379</td>\n",
       "      <td>N</td>\n",
       "      <td>157</td>\n",
       "      <td>5.062595</td>\n",
       "      <td>0</td>\n",
       "    </tr>\n",
       "  </tbody>\n",
       "</table>\n",
       "<p>945571 rows × 12 columns</p>\n",
       "</div>"
      ],
      "text/plain": [
       "                id  vendor_id     pickup_datetime  passenger_count  \\\n",
       "96469    id0190469          2 2016-01-01 00:00:17                5   \n",
       "223872   id1665586          1 2016-01-01 00:00:53                1   \n",
       "713067   id1210365          2 2016-01-01 00:01:01                5   \n",
       "652463   id3888279          1 2016-01-01 00:01:14                1   \n",
       "722901   id0924227          1 2016-01-01 00:01:20                1   \n",
       "...            ...        ...                 ...              ...   \n",
       "1384418  id2351670          2 2016-05-04 03:10:19                1   \n",
       "1100978  id0756776          1 2016-05-04 03:11:21                1   \n",
       "630885   id1074885          1 2016-05-04 03:11:36                1   \n",
       "567651   id1753963          2 2016-05-04 03:13:35                5   \n",
       "777457   id3285281          1 2016-05-04 03:14:02                2   \n",
       "\n",
       "         pickup_longitude  pickup_latitude  dropoff_longitude  \\\n",
       "96469          -73.981743        40.719158         -73.938828   \n",
       "223872         -73.985085        40.747166         -73.958038   \n",
       "713067         -73.965279        40.801041         -73.947479   \n",
       "652463         -73.982292        40.751331         -73.991341   \n",
       "722901         -73.970108        40.759800         -73.989357   \n",
       "...                   ...              ...                ...   \n",
       "1384418        -73.990578        40.757702         -73.920914   \n",
       "1100978        -73.994774        40.760296         -73.984291   \n",
       "630885         -73.986427        40.741432         -73.895416   \n",
       "567651         -73.994522        40.724815         -73.990700   \n",
       "777457         -73.976295        40.785774         -73.964218   \n",
       "\n",
       "         dropoff_latitude store_and_fwd_flag  trip_duration  \\\n",
       "96469           40.829182                  N            849   \n",
       "223872          40.717491                  N           1294   \n",
       "713067          40.815170                  N            408   \n",
       "652463          40.750340                  N            280   \n",
       "722901          40.742989                  N            736   \n",
       "...                   ...                ...            ...   \n",
       "1384418         40.756573                  N            841   \n",
       "1100978         40.766556                  N            137   \n",
       "630885          40.758724                  N           1002   \n",
       "567651          40.723518                  N            189   \n",
       "777457          40.797379                  N            157   \n",
       "\n",
       "         log_trip_duration  anomaly  \n",
       "96469             6.745236        0  \n",
       "223872            7.166266        0  \n",
       "713067            6.013715        0  \n",
       "652463            5.638355        0  \n",
       "722901            6.602588        0  \n",
       "...                    ...      ...  \n",
       "1384418           6.735780        0  \n",
       "1100978           4.927254        0  \n",
       "630885            6.910751        0  \n",
       "567651            5.247024        0  \n",
       "777457            5.062595        0  \n",
       "\n",
       "[945571 rows x 12 columns]"
      ]
     },
     "execution_count": 26,
     "metadata": {},
     "output_type": "execute_result"
    }
   ],
   "source": [
    "train_df1\n",
    "#Проблема в том, что в testik без дубликатов на 5к больше значений"
   ]
  },
  {
   "cell_type": "code",
   "execution_count": 27,
   "metadata": {},
   "outputs": [
    {
     "data": {
      "text/plain": [
       "array([0], dtype=int64)"
      ]
     },
     "execution_count": 27,
     "metadata": {},
     "output_type": "execute_result"
    }
   ],
   "source": [
    "train_df1['anomaly'].unique()"
   ]
  },
  {
   "cell_type": "code",
   "execution_count": 28,
   "metadata": {},
   "outputs": [
    {
     "data": {
      "text/plain": [
       "0    945571\n",
       "1      4874\n",
       "Name: anomaly, dtype: int64"
      ]
     },
     "execution_count": 28,
     "metadata": {},
     "output_type": "execute_result"
    }
   ],
   "source": [
    "testik['anomaly'].value_counts()"
   ]
  },
  {
   "cell_type": "code",
   "execution_count": 29,
   "metadata": {},
   "outputs": [
    {
     "data": {
      "text/html": [
       "<div>\n",
       "<style scoped>\n",
       "    .dataframe tbody tr th:only-of-type {\n",
       "        vertical-align: middle;\n",
       "    }\n",
       "\n",
       "    .dataframe tbody tr th {\n",
       "        vertical-align: top;\n",
       "    }\n",
       "\n",
       "    .dataframe thead th {\n",
       "        text-align: right;\n",
       "    }\n",
       "</style>\n",
       "<table border=\"1\" class=\"dataframe\">\n",
       "  <thead>\n",
       "    <tr style=\"text-align: right;\">\n",
       "      <th></th>\n",
       "      <th>id</th>\n",
       "      <th>vendor_id</th>\n",
       "      <th>pickup_datetime</th>\n",
       "      <th>passenger_count</th>\n",
       "      <th>pickup_longitude</th>\n",
       "      <th>pickup_latitude</th>\n",
       "      <th>dropoff_longitude</th>\n",
       "      <th>dropoff_latitude</th>\n",
       "      <th>store_and_fwd_flag</th>\n",
       "      <th>trip_duration</th>\n",
       "      <th>log_trip_duration</th>\n",
       "      <th>anomaly</th>\n",
       "    </tr>\n",
       "  </thead>\n",
       "  <tbody>\n",
       "    <tr>\n",
       "      <th>1113990</th>\n",
       "      <td>id2197713</td>\n",
       "      <td>2</td>\n",
       "      <td>2016-01-23 00:00:03</td>\n",
       "      <td>1</td>\n",
       "      <td>-73.988632</td>\n",
       "      <td>40.749088</td>\n",
       "      <td>-73.987259</td>\n",
       "      <td>40.768440</td>\n",
       "      <td>N</td>\n",
       "      <td>495</td>\n",
       "      <td>6.206576</td>\n",
       "      <td>1</td>\n",
       "    </tr>\n",
       "    <tr>\n",
       "      <th>546086</th>\n",
       "      <td>id1836431</td>\n",
       "      <td>1</td>\n",
       "      <td>2016-01-23 00:00:16</td>\n",
       "      <td>1</td>\n",
       "      <td>-74.004326</td>\n",
       "      <td>40.742359</td>\n",
       "      <td>-73.979446</td>\n",
       "      <td>40.749588</td>\n",
       "      <td>N</td>\n",
       "      <td>1578</td>\n",
       "      <td>7.364547</td>\n",
       "      <td>1</td>\n",
       "    </tr>\n",
       "    <tr>\n",
       "      <th>738896</th>\n",
       "      <td>id1701197</td>\n",
       "      <td>2</td>\n",
       "      <td>2016-01-23 00:00:20</td>\n",
       "      <td>1</td>\n",
       "      <td>-73.957092</td>\n",
       "      <td>40.770256</td>\n",
       "      <td>-73.974060</td>\n",
       "      <td>40.761585</td>\n",
       "      <td>N</td>\n",
       "      <td>504</td>\n",
       "      <td>6.224558</td>\n",
       "      <td>1</td>\n",
       "    </tr>\n",
       "    <tr>\n",
       "      <th>220854</th>\n",
       "      <td>id0682965</td>\n",
       "      <td>1</td>\n",
       "      <td>2016-01-23 00:00:21</td>\n",
       "      <td>2</td>\n",
       "      <td>-74.004860</td>\n",
       "      <td>40.740711</td>\n",
       "      <td>-73.986984</td>\n",
       "      <td>40.721104</td>\n",
       "      <td>N</td>\n",
       "      <td>962</td>\n",
       "      <td>6.870053</td>\n",
       "      <td>1</td>\n",
       "    </tr>\n",
       "    <tr>\n",
       "      <th>822393</th>\n",
       "      <td>id1357784</td>\n",
       "      <td>2</td>\n",
       "      <td>2016-01-23 00:00:24</td>\n",
       "      <td>2</td>\n",
       "      <td>-73.997353</td>\n",
       "      <td>40.719212</td>\n",
       "      <td>-73.987427</td>\n",
       "      <td>40.738743</td>\n",
       "      <td>N</td>\n",
       "      <td>839</td>\n",
       "      <td>6.733402</td>\n",
       "      <td>1</td>\n",
       "    </tr>\n",
       "  </tbody>\n",
       "</table>\n",
       "</div>"
      ],
      "text/plain": [
       "                id  vendor_id     pickup_datetime  passenger_count  \\\n",
       "1113990  id2197713          2 2016-01-23 00:00:03                1   \n",
       "546086   id1836431          1 2016-01-23 00:00:16                1   \n",
       "738896   id1701197          2 2016-01-23 00:00:20                1   \n",
       "220854   id0682965          1 2016-01-23 00:00:21                2   \n",
       "822393   id1357784          2 2016-01-23 00:00:24                2   \n",
       "\n",
       "         pickup_longitude  pickup_latitude  dropoff_longitude  \\\n",
       "1113990        -73.988632        40.749088         -73.987259   \n",
       "546086         -74.004326        40.742359         -73.979446   \n",
       "738896         -73.957092        40.770256         -73.974060   \n",
       "220854         -74.004860        40.740711         -73.986984   \n",
       "822393         -73.997353        40.719212         -73.987427   \n",
       "\n",
       "         dropoff_latitude store_and_fwd_flag  trip_duration  \\\n",
       "1113990         40.768440                  N            495   \n",
       "546086          40.749588                  N           1578   \n",
       "738896          40.761585                  N            504   \n",
       "220854          40.721104                  N            962   \n",
       "822393          40.738743                  N            839   \n",
       "\n",
       "         log_trip_duration  anomaly  \n",
       "1113990           6.206576        1  \n",
       "546086            7.364547        1  \n",
       "738896            6.224558        1  \n",
       "220854            6.870053        1  \n",
       "822393            6.733402        1  "
      ]
     },
     "execution_count": 29,
     "metadata": {},
     "output_type": "execute_result"
    }
   ],
   "source": [
    "testik.head()"
   ]
  },
  {
   "cell_type": "code",
   "execution_count": 30,
   "metadata": {},
   "outputs": [],
   "source": [
    "def create_features(date_frame):\n",
    "    X = pd.concat([\n",
    "        date_frame.pickup_datetime.apply(lambda x: x.timetuple().tm_yday),\n",
    "        date_frame.pickup_datetime.apply(lambda x: x.hour),\n",
    "        date_frame.pickup_datetime.apply(lambda x: x.timetuple().tm_wday),\n",
    "        date_frame.anomaly.apply(lambda x: x)\n",
    "    ], axis=1, keys=['day', 'hour', 'week_day','is_anomaly'])\n",
    "\n",
    "    return X, date_frame.log_trip_duration"
   ]
  },
  {
   "cell_type": "code",
   "execution_count": 31,
   "metadata": {},
   "outputs": [],
   "source": [
    "X_train, y_train = create_features(testik) #testik пошел из train_df"
   ]
  },
  {
   "cell_type": "code",
   "execution_count": 32,
   "metadata": {},
   "outputs": [
    {
     "data": {
      "text/plain": [
       "1113990    6.206576\n",
       "546086     7.364547\n",
       "738896     6.224558\n",
       "220854     6.870053\n",
       "822393     6.733402\n",
       "             ...   \n",
       "1384418    6.735780\n",
       "1100978    4.927254\n",
       "630885     6.910751\n",
       "567651     5.247024\n",
       "777457     5.062595\n",
       "Name: log_trip_duration, Length: 950445, dtype: float64"
      ]
     },
     "execution_count": 32,
     "metadata": {},
     "output_type": "execute_result"
    }
   ],
   "source": [
    "y_train"
   ]
  },
  {
   "cell_type": "code",
   "execution_count": 33,
   "metadata": {},
   "outputs": [
    {
     "data": {
      "text/html": [
       "<div>\n",
       "<style scoped>\n",
       "    .dataframe tbody tr th:only-of-type {\n",
       "        vertical-align: middle;\n",
       "    }\n",
       "\n",
       "    .dataframe tbody tr th {\n",
       "        vertical-align: top;\n",
       "    }\n",
       "\n",
       "    .dataframe thead th {\n",
       "        text-align: right;\n",
       "    }\n",
       "</style>\n",
       "<table border=\"1\" class=\"dataframe\">\n",
       "  <thead>\n",
       "    <tr style=\"text-align: right;\">\n",
       "      <th></th>\n",
       "      <th>day</th>\n",
       "      <th>hour</th>\n",
       "      <th>week_day</th>\n",
       "      <th>is_anomaly</th>\n",
       "    </tr>\n",
       "  </thead>\n",
       "  <tbody>\n",
       "    <tr>\n",
       "      <th>1113990</th>\n",
       "      <td>23</td>\n",
       "      <td>0</td>\n",
       "      <td>5</td>\n",
       "      <td>1</td>\n",
       "    </tr>\n",
       "    <tr>\n",
       "      <th>546086</th>\n",
       "      <td>23</td>\n",
       "      <td>0</td>\n",
       "      <td>5</td>\n",
       "      <td>1</td>\n",
       "    </tr>\n",
       "    <tr>\n",
       "      <th>738896</th>\n",
       "      <td>23</td>\n",
       "      <td>0</td>\n",
       "      <td>5</td>\n",
       "      <td>1</td>\n",
       "    </tr>\n",
       "    <tr>\n",
       "      <th>220854</th>\n",
       "      <td>23</td>\n",
       "      <td>0</td>\n",
       "      <td>5</td>\n",
       "      <td>1</td>\n",
       "    </tr>\n",
       "    <tr>\n",
       "      <th>822393</th>\n",
       "      <td>23</td>\n",
       "      <td>0</td>\n",
       "      <td>5</td>\n",
       "      <td>1</td>\n",
       "    </tr>\n",
       "    <tr>\n",
       "      <th>...</th>\n",
       "      <td>...</td>\n",
       "      <td>...</td>\n",
       "      <td>...</td>\n",
       "      <td>...</td>\n",
       "    </tr>\n",
       "    <tr>\n",
       "      <th>1384418</th>\n",
       "      <td>125</td>\n",
       "      <td>3</td>\n",
       "      <td>2</td>\n",
       "      <td>0</td>\n",
       "    </tr>\n",
       "    <tr>\n",
       "      <th>1100978</th>\n",
       "      <td>125</td>\n",
       "      <td>3</td>\n",
       "      <td>2</td>\n",
       "      <td>0</td>\n",
       "    </tr>\n",
       "    <tr>\n",
       "      <th>630885</th>\n",
       "      <td>125</td>\n",
       "      <td>3</td>\n",
       "      <td>2</td>\n",
       "      <td>0</td>\n",
       "    </tr>\n",
       "    <tr>\n",
       "      <th>567651</th>\n",
       "      <td>125</td>\n",
       "      <td>3</td>\n",
       "      <td>2</td>\n",
       "      <td>0</td>\n",
       "    </tr>\n",
       "    <tr>\n",
       "      <th>777457</th>\n",
       "      <td>125</td>\n",
       "      <td>3</td>\n",
       "      <td>2</td>\n",
       "      <td>0</td>\n",
       "    </tr>\n",
       "  </tbody>\n",
       "</table>\n",
       "<p>950445 rows × 4 columns</p>\n",
       "</div>"
      ],
      "text/plain": [
       "         day  hour  week_day  is_anomaly\n",
       "1113990   23     0         5           1\n",
       "546086    23     0         5           1\n",
       "738896    23     0         5           1\n",
       "220854    23     0         5           1\n",
       "822393    23     0         5           1\n",
       "...      ...   ...       ...         ...\n",
       "1384418  125     3         2           0\n",
       "1100978  125     3         2           0\n",
       "630885   125     3         2           0\n",
       "567651   125     3         2           0\n",
       "777457   125     3         2           0\n",
       "\n",
       "[950445 rows x 4 columns]"
      ]
     },
     "execution_count": 33,
     "metadata": {},
     "output_type": "execute_result"
    }
   ],
   "source": [
    "X_train"
   ]
  },
  {
   "cell_type": "code",
   "execution_count": 34,
   "metadata": {},
   "outputs": [
    {
     "name": "stderr",
     "output_type": "stream",
     "text": [
      "C:\\Games\\Code\\lib\\site-packages\\pandas\\core\\generic.py:5516: SettingWithCopyWarning: \n",
      "A value is trying to be set on a copy of a slice from a DataFrame.\n",
      "Try using .loc[row_indexer,col_indexer] = value instead\n",
      "\n",
      "See the caveats in the documentation: https://pandas.pydata.org/pandas-docs/stable/user_guide/indexing.html#returning-a-view-versus-a-copy\n",
      "  self[name] = value\n"
     ]
    }
   ],
   "source": [
    "test_df.pickup_datetime = pd.to_datetime(test_df.pickup_datetime)"
   ]
  },
  {
   "cell_type": "code",
   "execution_count": 35,
   "metadata": {},
   "outputs": [
    {
     "name": "stderr",
     "output_type": "stream",
     "text": [
      "C:\\Users\\AACE~1\\AppData\\Local\\Temp/ipykernel_11952/57021801.py:1: SettingWithCopyWarning: \n",
      "A value is trying to be set on a copy of a slice from a DataFrame.\n",
      "Try using .loc[row_indexer,col_indexer] = value instead\n",
      "\n",
      "See the caveats in the documentation: https://pandas.pydata.org/pandas-docs/stable/user_guide/indexing.html#returning-a-view-versus-a-copy\n",
      "  test_df['anomaly'] = 0\n"
     ]
    }
   ],
   "source": [
    "test_df['anomaly'] = 0"
   ]
  },
  {
   "cell_type": "code",
   "execution_count": 36,
   "metadata": {},
   "outputs": [],
   "source": [
    "X_test, y_test = create_features(test_df)"
   ]
  },
  {
   "cell_type": "markdown",
   "metadata": {},
   "source": [
    "Добавил аномали в треин и тестовую выборку\n",
    "\n",
    "\n",
    "хуй"
   ]
  },
  {
   "cell_type": "code",
   "execution_count": 37,
   "metadata": {},
   "outputs": [],
   "source": [
    "from sklearn.preprocessing import OneHotEncoder\n",
    "from sklearn.compose import ColumnTransformer "
   ]
  },
  {
   "cell_type": "code",
   "execution_count": 38,
   "metadata": {},
   "outputs": [],
   "source": [
    "X_train, y_train = create_features(testik) #testik пошел из train_df #нужно было переделать ОНЕ под дни недели\n",
    "# и заново отправить ему набор начальных данных\n",
    "X_test, y_test = create_features(test_df)"
   ]
  },
  {
   "cell_type": "code",
   "execution_count": 39,
   "metadata": {},
   "outputs": [],
   "source": [
    "ohe = ColumnTransformer([(\"One hot\", OneHotEncoder(sparse=False),[1, 2])], remainder=\"passthrough\") #[1,2] - столбцы"
   ]
  },
  {
   "cell_type": "code",
   "execution_count": 40,
   "metadata": {},
   "outputs": [],
   "source": [
    "X_train = ohe.fit_transform(X_train)\n",
    "X_test = ohe.transform(X_test)"
   ]
  },
  {
   "cell_type": "code",
   "execution_count": 41,
   "metadata": {},
   "outputs": [
    {
     "data": {
      "text/plain": [
       "array([[  1.,   0.,   0., ...,   0.,  23.,   1.],\n",
       "       [  1.,   0.,   0., ...,   0.,  23.,   1.],\n",
       "       [  1.,   0.,   0., ...,   0.,  23.,   1.],\n",
       "       ...,\n",
       "       [  0.,   0.,   0., ...,   0., 125.,   0.],\n",
       "       [  0.,   0.,   0., ...,   0., 125.,   0.],\n",
       "       [  0.,   0.,   0., ...,   0., 125.,   0.]])"
      ]
     },
     "execution_count": 41,
     "metadata": {},
     "output_type": "execute_result"
    }
   ],
   "source": [
    "X_train #У меня получается 32 столбца"
   ]
  },
  {
   "cell_type": "code",
   "execution_count": 42,
   "metadata": {},
   "outputs": [
    {
     "data": {
      "text/plain": [
       "array([[  0.,   0.,   0., ...,   0., 125.,   0.],\n",
       "       [  0.,   0.,   0., ...,   0., 125.,   0.],\n",
       "       [  0.,   0.,   0., ...,   0., 125.,   0.],\n",
       "       ...,\n",
       "       [  0.,   0.,   0., ...,   0., 182.,   0.],\n",
       "       [  0.,   0.,   0., ...,   0., 182.,   0.],\n",
       "       [  0.,   0.,   0., ...,   0., 182.,   0.]])"
      ]
     },
     "execution_count": 42,
     "metadata": {},
     "output_type": "execute_result"
    }
   ],
   "source": [
    "X_test"
   ]
  },
  {
   "cell_type": "code",
   "execution_count": 43,
   "metadata": {},
   "outputs": [],
   "source": [
    "from sklearn.linear_model import LinearRegression\n",
    "from sklearn.linear_model import Ridge\n",
    "from sklearn.metrics import mean_squared_error"
   ]
  },
  {
   "cell_type": "code",
   "execution_count": 44,
   "metadata": {},
   "outputs": [],
   "source": [
    "lin_reg = LinearRegression()"
   ]
  },
  {
   "cell_type": "code",
   "execution_count": 45,
   "metadata": {},
   "outputs": [
    {
     "data": {
      "text/plain": [
       "LinearRegression()"
      ]
     },
     "execution_count": 45,
     "metadata": {},
     "output_type": "execute_result"
    }
   ],
   "source": [
    "lin_reg.fit(X_train, y_train)"
   ]
  },
  {
   "cell_type": "code",
   "execution_count": 46,
   "metadata": {},
   "outputs": [
    {
     "data": {
      "text/plain": [
       "0.6504099548889269"
      ]
     },
     "execution_count": 46,
     "metadata": {},
     "output_type": "execute_result"
    }
   ],
   "source": [
    "mean_squared_error(y_test, lin_reg.predict(X_test))"
   ]
  },
  {
   "cell_type": "code",
   "execution_count": 47,
   "metadata": {},
   "outputs": [
    {
     "data": {
      "text/plain": [
       "0.6505349712020131"
      ]
     },
     "execution_count": 47,
     "metadata": {},
     "output_type": "execute_result"
    }
   ],
   "source": [
    "ridge = Ridge(alpha=1000).fit(X_train, y_train)\n",
    "mean_squared_error(y_test, ridge.predict(X_test))"
   ]
  },
  {
   "cell_type": "code",
   "execution_count": 48,
   "metadata": {},
   "outputs": [],
   "source": [
    "from sklearn.model_selection import GridSearchCV"
   ]
  },
  {
   "cell_type": "code",
   "execution_count": 49,
   "metadata": {},
   "outputs": [],
   "source": [
    "grid_searcher = GridSearchCV(\n",
    "    Ridge(),\n",
    "    param_grid={\n",
    "        'alpha': np.linspace(100, 1000, 10)\n",
    "        \n",
    "    }\n",
    ")"
   ]
  },
  {
   "cell_type": "code",
   "execution_count": 50,
   "metadata": {},
   "outputs": [
    {
     "data": {
      "text/plain": [
       "GridSearchCV(estimator=Ridge(),\n",
       "             param_grid={'alpha': array([ 100.,  200.,  300.,  400.,  500.,  600.,  700.,  800.,  900.,\n",
       "       1000.])})"
      ]
     },
     "execution_count": 50,
     "metadata": {},
     "output_type": "execute_result"
    }
   ],
   "source": [
    "grid_searcher.fit(X_train, y_train)"
   ]
  },
  {
   "cell_type": "code",
   "execution_count": 51,
   "metadata": {},
   "outputs": [
    {
     "data": {
      "text/plain": [
       "{'alpha': 400.0}"
      ]
     },
     "execution_count": 51,
     "metadata": {},
     "output_type": "execute_result"
    }
   ],
   "source": [
    "grid_searcher.best_params_"
   ]
  },
  {
   "cell_type": "code",
   "execution_count": 52,
   "metadata": {},
   "outputs": [
    {
     "data": {
      "text/plain": [
       "0.650441811642067"
      ]
     },
     "execution_count": 52,
     "metadata": {},
     "output_type": "execute_result"
    }
   ],
   "source": [
    "mean_squared_error(y_test, grid_searcher.predict(X_test))"
   ]
  },
  {
   "cell_type": "code",
   "execution_count": 53,
   "metadata": {},
   "outputs": [
    {
     "data": {
      "text/plain": [
       "{'alpha': 400.0}"
      ]
     },
     "execution_count": 53,
     "metadata": {},
     "output_type": "execute_result"
    }
   ],
   "source": [
    "grid_searcher.best_params_"
   ]
  },
  {
   "cell_type": "code",
   "execution_count": 54,
   "metadata": {},
   "outputs": [],
   "source": [
    "# 0.6534309800537684  Линейная регрессия\n",
    "# 0.6535589604358449  Ридж 1к\n",
    "# 0.653468861912505   Грид ридж 400\n",
    "# 0.6538703424304909  Грид ридж у чела с курса на 388 до аномали и дней недели"
   ]
  },
  {
   "cell_type": "code",
   "execution_count": 55,
   "metadata": {},
   "outputs": [],
   "source": [
    "#from sklearn.neighbors import KNeighborsRegressor"
   ]
  },
  {
   "cell_type": "code",
   "execution_count": 56,
   "metadata": {},
   "outputs": [],
   "source": [
    "#gs = GridSearchCV(\n",
    "#    KNeighborsRegressor(),\n",
    "#    param_grid={\n",
    "#        'n_neighbors': [2, 3, 5, 10],\n",
    "#        'weights': ['uniform', 'distance'],\n",
    "#        'p': [1, 2, 3]\n",
    "#    },\n",
    "#    cv= 10,\n",
    "#    n_jobs=2\n",
    "#) занимает вечность"
   ]
  },
  {
   "cell_type": "code",
   "execution_count": 57,
   "metadata": {},
   "outputs": [],
   "source": [
    "# gs.fit(X_train, y_train) #включение на вечность"
   ]
  },
  {
   "cell_type": "code",
   "execution_count": 84,
   "metadata": {},
   "outputs": [],
   "source": [
    "from sklearn.preprocessing import StandardScaler\n",
    "from sklearn.linear_model import Lasso"
   ]
  },
  {
   "cell_type": "code",
   "execution_count": 78,
   "metadata": {},
   "outputs": [],
   "source": [
    "X_train_scaled = X_train.copy()\n",
    "X_test_scaled = X_test.copy()\n",
    "scaler = StandardScaler()\n",
    "X_train_scaled = scaler.fit_transform(X_train_scaled)\n",
    "X_test_scaled = scaler.fit_transform(X_test_scaled)\n",
    "\n",
    "#Был какой-то баг с 3ей строкой с присваиванием функции\n",
    "#Без обучения (fit) \"трансформ\" не работает)"
   ]
  },
  {
   "cell_type": "code",
   "execution_count": 96,
   "metadata": {},
   "outputs": [
    {
     "name": "stderr",
     "output_type": "stream",
     "text": [
      "C:\\Games\\Code\\lib\\site-packages\\sklearn\\linear_model\\_coordinate_descent.py:647: ConvergenceWarning: Objective did not converge. You might want to increase the number of iterations, check the scale of the features or consider increasing regularisation. Duality gap: 1.412e+04, tolerance: 5.881e+01\n",
      "  model = cd_fast.enet_coordinate_descent(\n"
     ]
    },
    {
     "data": {
      "text/plain": [
       "Lasso(alpha=2.65e-05)"
      ]
     },
     "execution_count": 96,
     "metadata": {},
     "output_type": "execute_result"
    }
   ],
   "source": [
    "clf = Lasso(alpha=2.65e-05)\n",
    "clf.fit(X_train_scaled, y_train)"
   ]
  },
  {
   "cell_type": "code",
   "execution_count": 105,
   "metadata": {},
   "outputs": [
    {
     "data": {
      "text/plain": [
       "0.6562108624307065"
      ]
     },
     "execution_count": 105,
     "metadata": {},
     "output_type": "execute_result"
    }
   ],
   "source": [
    "mean_squared_error(y_test, clf.predict(X_test_scaled))"
   ]
  },
  {
   "cell_type": "code",
   "execution_count": null,
   "metadata": {},
   "outputs": [],
   "source": [
    "# 0.6504243430068902 без масштабирования\n",
    "# 0.6562108624307065 с маштабированием"
   ]
  },
  {
   "cell_type": "code",
   "execution_count": null,
   "metadata": {},
   "outputs": [],
   "source": [
    "len(X_train_scaled)"
   ]
  },
  {
   "cell_type": "code",
   "execution_count": 104,
   "metadata": {},
   "outputs": [],
   "source": [
    "wtf = clf.coef_"
   ]
  }
 ],
 "metadata": {
  "interpreter": {
   "hash": "8bdddfcbdf35f1174d91508787a9c93eee9333e8f9b9d190752318df5f8bbf41"
  },
  "kernelspec": {
   "display_name": "Python 3.9.6 64-bit",
   "language": "python",
   "name": "python3"
  },
  "language_info": {
   "codemirror_mode": {
    "name": "ipython",
    "version": 3
   },
   "file_extension": ".py",
   "mimetype": "text/x-python",
   "name": "python",
   "nbconvert_exporter": "python",
   "pygments_lexer": "ipython3",
   "version": "3.9.6"
  },
  "orig_nbformat": 4
 },
 "nbformat": 4,
 "nbformat_minor": 2
}
